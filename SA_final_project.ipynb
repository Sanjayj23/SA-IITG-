{
  "cells": [
    {
      "cell_type": "markdown",
      "source": [
        "install libraries"
      ],
      "metadata": {
        "id": "i6JCEAZ3eZ2k"
      }
    },
    {
      "cell_type": "code",
      "source": [
        "# Install required packages\n",
        "!pip install pathway==0.2.1\n",
        "!pip install bokeh\n",
        "!pip install pandas numpy matplotlib\n",
        "!pip install -q --upgrade google-colab\n"
      ],
      "metadata": {
        "id": "NgiJHFG0doQ1",
        "outputId": "245701bf-9498-4e8c-a06c-25193b1c2315",
        "colab": {
          "base_uri": "https://localhost:8080/"
        }
      },
      "execution_count": 1,
      "outputs": [
        {
          "output_type": "stream",
          "name": "stdout",
          "text": [
            "Requirement already satisfied: pathway==0.2.1 in /usr/local/lib/python3.11/dist-packages (0.2.1)\n",
            "Requirement already satisfied: aiohttp>=3.8.4 in /usr/local/lib/python3.11/dist-packages (from pathway==0.2.1) (3.11.15)\n",
            "Requirement already satisfied: click>=8.1 in /usr/local/lib/python3.11/dist-packages (from pathway==0.2.1) (8.2.1)\n",
            "Requirement already satisfied: numpy>=1.21 in /usr/local/lib/python3.11/dist-packages (from pathway==0.2.1) (2.0.2)\n",
            "Requirement already satisfied: pandas>=1.3 in /usr/local/lib/python3.11/dist-packages (from pathway==0.2.1) (2.2.2)\n",
            "Requirement already satisfied: scikit-learn>=1.0 in /usr/local/lib/python3.11/dist-packages (from pathway==0.2.1) (1.6.1)\n",
            "Requirement already satisfied: sqlglot==10.6.1 in /usr/local/lib/python3.11/dist-packages (from pathway==0.2.1) (10.6.1)\n",
            "Requirement already satisfied: numba>=0.56 in /usr/local/lib/python3.11/dist-packages (from pathway==0.2.1) (0.60.0)\n",
            "Requirement already satisfied: pyarrow>=10.0.0 in /usr/local/lib/python3.11/dist-packages (from pathway==0.2.1) (18.1.0)\n",
            "Requirement already satisfied: requests>=2.31.0 in /usr/local/lib/python3.11/dist-packages (from pathway==0.2.1) (2.32.3)\n",
            "Requirement already satisfied: python-sat>=0.1.8.dev in /usr/local/lib/python3.11/dist-packages (from pathway==0.2.1) (1.8.dev17)\n",
            "Requirement already satisfied: beartype>=0.14.0 in /usr/local/lib/python3.11/dist-packages (from pathway==0.2.1) (0.15.0)\n",
            "Requirement already satisfied: rich>=12.6.0 in /usr/local/lib/python3.11/dist-packages (from pathway==0.2.1) (13.9.4)\n",
            "Requirement already satisfied: diskcache>=5.2.1 in /usr/local/lib/python3.11/dist-packages (from pathway==0.2.1) (5.6.3)\n",
            "Requirement already satisfied: aiohappyeyeballs>=2.3.0 in /usr/local/lib/python3.11/dist-packages (from aiohttp>=3.8.4->pathway==0.2.1) (2.6.1)\n",
            "Requirement already satisfied: aiosignal>=1.1.2 in /usr/local/lib/python3.11/dist-packages (from aiohttp>=3.8.4->pathway==0.2.1) (1.3.2)\n",
            "Requirement already satisfied: attrs>=17.3.0 in /usr/local/lib/python3.11/dist-packages (from aiohttp>=3.8.4->pathway==0.2.1) (25.3.0)\n",
            "Requirement already satisfied: frozenlist>=1.1.1 in /usr/local/lib/python3.11/dist-packages (from aiohttp>=3.8.4->pathway==0.2.1) (1.7.0)\n",
            "Requirement already satisfied: multidict<7.0,>=4.5 in /usr/local/lib/python3.11/dist-packages (from aiohttp>=3.8.4->pathway==0.2.1) (6.6.3)\n",
            "Requirement already satisfied: propcache>=0.2.0 in /usr/local/lib/python3.11/dist-packages (from aiohttp>=3.8.4->pathway==0.2.1) (0.3.2)\n",
            "Requirement already satisfied: yarl<2.0,>=1.17.0 in /usr/local/lib/python3.11/dist-packages (from aiohttp>=3.8.4->pathway==0.2.1) (1.20.1)\n",
            "Requirement already satisfied: llvmlite<0.44,>=0.43.0dev0 in /usr/local/lib/python3.11/dist-packages (from numba>=0.56->pathway==0.2.1) (0.43.0)\n",
            "Requirement already satisfied: python-dateutil>=2.8.2 in /usr/local/lib/python3.11/dist-packages (from pandas>=1.3->pathway==0.2.1) (2.9.0.post0)\n",
            "Requirement already satisfied: pytz>=2020.1 in /usr/local/lib/python3.11/dist-packages (from pandas>=1.3->pathway==0.2.1) (2025.2)\n",
            "Requirement already satisfied: tzdata>=2022.7 in /usr/local/lib/python3.11/dist-packages (from pandas>=1.3->pathway==0.2.1) (2025.2)\n",
            "Requirement already satisfied: six in /usr/local/lib/python3.11/dist-packages (from python-sat>=0.1.8.dev->pathway==0.2.1) (1.17.0)\n",
            "Requirement already satisfied: charset-normalizer<4,>=2 in /usr/local/lib/python3.11/dist-packages (from requests>=2.31.0->pathway==0.2.1) (3.4.2)\n",
            "Requirement already satisfied: idna<4,>=2.5 in /usr/local/lib/python3.11/dist-packages (from requests>=2.31.0->pathway==0.2.1) (3.10)\n",
            "Requirement already satisfied: urllib3<3,>=1.21.1 in /usr/local/lib/python3.11/dist-packages (from requests>=2.31.0->pathway==0.2.1) (2.4.0)\n",
            "Requirement already satisfied: certifi>=2017.4.17 in /usr/local/lib/python3.11/dist-packages (from requests>=2.31.0->pathway==0.2.1) (2025.6.15)\n",
            "Requirement already satisfied: markdown-it-py>=2.2.0 in /usr/local/lib/python3.11/dist-packages (from rich>=12.6.0->pathway==0.2.1) (3.0.0)\n",
            "Requirement already satisfied: pygments<3.0.0,>=2.13.0 in /usr/local/lib/python3.11/dist-packages (from rich>=12.6.0->pathway==0.2.1) (2.19.2)\n",
            "Requirement already satisfied: scipy>=1.6.0 in /usr/local/lib/python3.11/dist-packages (from scikit-learn>=1.0->pathway==0.2.1) (1.15.3)\n",
            "Requirement already satisfied: joblib>=1.2.0 in /usr/local/lib/python3.11/dist-packages (from scikit-learn>=1.0->pathway==0.2.1) (1.5.1)\n",
            "Requirement already satisfied: threadpoolctl>=3.1.0 in /usr/local/lib/python3.11/dist-packages (from scikit-learn>=1.0->pathway==0.2.1) (3.6.0)\n",
            "Requirement already satisfied: mdurl~=0.1 in /usr/local/lib/python3.11/dist-packages (from markdown-it-py>=2.2.0->rich>=12.6.0->pathway==0.2.1) (0.1.2)\n",
            "Requirement already satisfied: bokeh in /usr/local/lib/python3.11/dist-packages (3.7.3)\n",
            "Requirement already satisfied: Jinja2>=2.9 in /usr/local/lib/python3.11/dist-packages (from bokeh) (3.1.6)\n",
            "Requirement already satisfied: contourpy>=1.2 in /usr/local/lib/python3.11/dist-packages (from bokeh) (1.3.2)\n",
            "Requirement already satisfied: narwhals>=1.13 in /usr/local/lib/python3.11/dist-packages (from bokeh) (1.45.0)\n",
            "Requirement already satisfied: numpy>=1.16 in /usr/local/lib/python3.11/dist-packages (from bokeh) (2.0.2)\n",
            "Requirement already satisfied: packaging>=16.8 in /usr/local/lib/python3.11/dist-packages (from bokeh) (24.2)\n",
            "Requirement already satisfied: pandas>=1.2 in /usr/local/lib/python3.11/dist-packages (from bokeh) (2.2.2)\n",
            "Requirement already satisfied: pillow>=7.1.0 in /usr/local/lib/python3.11/dist-packages (from bokeh) (11.2.1)\n",
            "Requirement already satisfied: PyYAML>=3.10 in /usr/local/lib/python3.11/dist-packages (from bokeh) (6.0.2)\n",
            "Requirement already satisfied: tornado>=6.2 in /usr/local/lib/python3.11/dist-packages (from bokeh) (6.4.2)\n",
            "Requirement already satisfied: xyzservices>=2021.09.1 in /usr/local/lib/python3.11/dist-packages (from bokeh) (2025.4.0)\n",
            "Requirement already satisfied: MarkupSafe>=2.0 in /usr/local/lib/python3.11/dist-packages (from Jinja2>=2.9->bokeh) (3.0.2)\n",
            "Requirement already satisfied: python-dateutil>=2.8.2 in /usr/local/lib/python3.11/dist-packages (from pandas>=1.2->bokeh) (2.9.0.post0)\n",
            "Requirement already satisfied: pytz>=2020.1 in /usr/local/lib/python3.11/dist-packages (from pandas>=1.2->bokeh) (2025.2)\n",
            "Requirement already satisfied: tzdata>=2022.7 in /usr/local/lib/python3.11/dist-packages (from pandas>=1.2->bokeh) (2025.2)\n",
            "Requirement already satisfied: six>=1.5 in /usr/local/lib/python3.11/dist-packages (from python-dateutil>=2.8.2->pandas>=1.2->bokeh) (1.17.0)\n",
            "Requirement already satisfied: pandas in /usr/local/lib/python3.11/dist-packages (2.2.2)\n",
            "Requirement already satisfied: numpy in /usr/local/lib/python3.11/dist-packages (2.0.2)\n",
            "Requirement already satisfied: matplotlib in /usr/local/lib/python3.11/dist-packages (3.10.0)\n",
            "Requirement already satisfied: python-dateutil>=2.8.2 in /usr/local/lib/python3.11/dist-packages (from pandas) (2.9.0.post0)\n",
            "Requirement already satisfied: pytz>=2020.1 in /usr/local/lib/python3.11/dist-packages (from pandas) (2025.2)\n",
            "Requirement already satisfied: tzdata>=2022.7 in /usr/local/lib/python3.11/dist-packages (from pandas) (2025.2)\n",
            "Requirement already satisfied: contourpy>=1.0.1 in /usr/local/lib/python3.11/dist-packages (from matplotlib) (1.3.2)\n",
            "Requirement already satisfied: cycler>=0.10 in /usr/local/lib/python3.11/dist-packages (from matplotlib) (0.12.1)\n",
            "Requirement already satisfied: fonttools>=4.22.0 in /usr/local/lib/python3.11/dist-packages (from matplotlib) (4.58.4)\n",
            "Requirement already satisfied: kiwisolver>=1.3.1 in /usr/local/lib/python3.11/dist-packages (from matplotlib) (1.4.8)\n",
            "Requirement already satisfied: packaging>=20.0 in /usr/local/lib/python3.11/dist-packages (from matplotlib) (24.2)\n",
            "Requirement already satisfied: pillow>=8 in /usr/local/lib/python3.11/dist-packages (from matplotlib) (11.2.1)\n",
            "Requirement already satisfied: pyparsing>=2.3.1 in /usr/local/lib/python3.11/dist-packages (from matplotlib) (3.2.3)\n",
            "Requirement already satisfied: six>=1.5 in /usr/local/lib/python3.11/dist-packages (from python-dateutil>=2.8.2->pandas) (1.17.0)\n"
          ]
        }
      ]
    },
    {
      "cell_type": "code",
      "source": [
        "# Import essential libraries\n",
        "import pandas as pd\n",
        "import numpy as np\n",
        "import pathway as pw\n",
        "import bokeh\n",
        "from bokeh.plotting import figure, show, output_notebook\n",
        "from bokeh.models import ColumnDataSource\n",
        "from bokeh.layouts import column, row\n",
        "from bokeh.io import curdoc, push_notebook\n",
        "import time\n",
        "from datetime import datetime, timedelta\n",
        "import warnings\n",
        "warnings.filterwarnings('ignore')\n",
        "\n",
        "# Enable Bokeh output in notebook\n",
        "output_notebook()"
      ],
      "metadata": {
        "id": "gtOr8iSeegJe"
      },
      "execution_count": 2,
      "outputs": []
    },
    {
      "cell_type": "markdown",
      "source": [
        "upload dataset"
      ],
      "metadata": {
        "id": "nRUNz5m_fB6u"
      }
    },
    {
      "cell_type": "code",
      "source": [
        "\n",
        "# Load the dataset\n",
        "df = pd.read_csv('dataset.csv')  # Replace with your actual file path\n",
        "print(f\"Dataset shape: {df.shape}\")\n",
        "print(df.head())\n"
      ],
      "metadata": {
        "id": "C35mMdhKe9rw",
        "outputId": "137142fb-e05f-48a6-fd29-3437956b98da",
        "colab": {
          "base_uri": "https://localhost:8080/"
        }
      },
      "execution_count": 3,
      "outputs": [
        {
          "output_type": "stream",
          "name": "stdout",
          "text": [
            "Dataset shape: (18368, 12)\n",
            "   ID SystemCodeNumber  Capacity   Latitude  Longitude  Occupancy VehicleType  \\\n",
            "0   0      BHMBCCMKT01       577  26.144536  91.736172         61         car   \n",
            "1   1      BHMBCCMKT01       577  26.144536  91.736172         64         car   \n",
            "2   2      BHMBCCMKT01       577  26.144536  91.736172         80         car   \n",
            "3   3      BHMBCCMKT01       577  26.144536  91.736172        107         car   \n",
            "4   4      BHMBCCMKT01       577  26.144536  91.736172        150        bike   \n",
            "\n",
            "  TrafficConditionNearby  QueueLength  IsSpecialDay LastUpdatedDate  \\\n",
            "0                    low            1             0      04-10-2016   \n",
            "1                    low            1             0      04-10-2016   \n",
            "2                    low            2             0      04-10-2016   \n",
            "3                    low            2             0      04-10-2016   \n",
            "4                    low            2             0      04-10-2016   \n",
            "\n",
            "  LastUpdatedTime  \n",
            "0        07:59:00  \n",
            "1        08:25:00  \n",
            "2        08:59:00  \n",
            "3        09:32:00  \n",
            "4        09:59:00  \n"
          ]
        }
      ]
    },
    {
      "cell_type": "markdown",
      "source": [
        "explore and prepare the data"
      ],
      "metadata": {
        "id": "gY7QHlebfNak"
      }
    },
    {
      "cell_type": "code",
      "source": [
        "# Examine data structure\n",
        "print(\"Dataset columns:\", df.columns.tolist())\n",
        "print(\"\\nData types:\")\n",
        "print(df.dtypes)\n",
        "print(\"\\nMissing values:\")\n",
        "print(df.isnull().sum())\n",
        "\n",
        "# Create basic features for parking demand analysis\n",
        "df['occupancy_rate'] = df['Occupancy'] / df['Capacity']\n",
        "df['demand_pressure'] = df['QueueLength'] + df['Occupancy']\n",
        "# Combine date and time\n",
        "df['datetime_str'] = df['LastUpdatedDate'].astype(str) + ' ' + df['LastUpdatedTime'].astype(str)\n",
        "\n",
        "# Parse with dayfirst\n",
        "df['datetime'] = pd.to_datetime(df['datetime_str'], dayfirst=True, errors='raise')\n",
        "\n",
        "# Drop helper column\n",
        "df.drop('datetime_str', axis=1, inplace=True)\n",
        "\n",
        "\n",
        "# Feature engineering for pricing models\n",
        "df['hour'] = df['datetime'].dt.hour\n",
        "df['day_of_week'] = df['datetime'].dt.dayofweek\n",
        "df['is_weekend'] = df['day_of_week'].isin([5, 6]).astype(int)\n"
      ],
      "metadata": {
        "id": "yiuVfAXsfJ0Q",
        "outputId": "43b6c95a-0b6a-491f-c410-3a2b72ced0bf",
        "colab": {
          "base_uri": "https://localhost:8080/"
        }
      },
      "execution_count": 18,
      "outputs": [
        {
          "output_type": "stream",
          "name": "stdout",
          "text": [
            "Dataset columns: ['ID', 'SystemCodeNumber', 'Capacity', 'Latitude', 'Longitude', 'Occupancy', 'VehicleType', 'TrafficConditionNearby', 'QueueLength', 'IsSpecialDay', 'LastUpdatedDate', 'LastUpdatedTime', 'occupancy_rate', 'demand_pressure', 'datetime', 'hour', 'day_of_week', 'is_weekend']\n",
            "\n",
            "Data types:\n",
            "ID                                 int64\n",
            "SystemCodeNumber                  object\n",
            "Capacity                           int64\n",
            "Latitude                         float64\n",
            "Longitude                        float64\n",
            "Occupancy                          int64\n",
            "VehicleType                       object\n",
            "TrafficConditionNearby            object\n",
            "QueueLength                        int64\n",
            "IsSpecialDay                       int64\n",
            "LastUpdatedDate                   object\n",
            "LastUpdatedTime                   object\n",
            "occupancy_rate                   float64\n",
            "demand_pressure                    int64\n",
            "datetime                  datetime64[ns]\n",
            "hour                               int32\n",
            "day_of_week                        int32\n",
            "is_weekend                         int64\n",
            "dtype: object\n",
            "\n",
            "Missing values:\n",
            "ID                        0\n",
            "SystemCodeNumber          0\n",
            "Capacity                  0\n",
            "Latitude                  0\n",
            "Longitude                 0\n",
            "Occupancy                 0\n",
            "VehicleType               0\n",
            "TrafficConditionNearby    0\n",
            "QueueLength               0\n",
            "IsSpecialDay              0\n",
            "LastUpdatedDate           0\n",
            "LastUpdatedTime           0\n",
            "occupancy_rate            0\n",
            "demand_pressure           0\n",
            "datetime                  0\n",
            "hour                      0\n",
            "day_of_week               0\n",
            "is_weekend                0\n",
            "dtype: int64\n"
          ]
        }
      ]
    },
    {
      "cell_type": "code",
      "source": [
        "def calculate_distance(lat1, lon1, lat2, lon2):\n",
        "    \"\"\"Calculate distance between two points using Haversine formula\"\"\"\n",
        "    from math import radians, sin, cos, sqrt, atan2\n",
        "\n",
        "    R = 6371  # Earth's radius in kilometers\n",
        "\n",
        "    lat1, lon1, lat2, lon2 = map(radians, [lat1, lon1, lat2, lon2])\n",
        "    dlat = lat2 - lat1\n",
        "    dlon = lon2 - lon1\n",
        "\n",
        "    a = sin(dlat/2)**2 + cos(lat1) * cos(lat2) * sin(dlon/2)**2\n",
        "    c = 2 * atan2(sqrt(a), sqrt(1-a))\n",
        "\n",
        "    return R * c\n",
        "\n",
        "# Create distance matrix for competitive pricing\n",
        "unique_locations = df[['Latitude', 'Longitude']].drop_duplicates()\n",
        "location_ids = unique_locations.index.tolist()\n",
        "\n",
        "distance_matrix = {}\n",
        "for i, (idx1, row1) in enumerate(unique_locations.iterrows()):\n",
        "    for j, (idx2, row2) in enumerate(unique_locations.iterrows()):\n",
        "        if i != j:\n",
        "            dist = calculate_distance(row1['Latitude'], row1['Longitude'],\n",
        "                                    row2['Latitude'], row2['Longitude'])\n",
        "            distance_matrix[(idx1, idx2)] = dist\n",
        "\n",
        "print(\"Distance matrix created for competitive analysis\")\n"
      ],
      "metadata": {
        "id": "w7sCRvohjxFE",
        "outputId": "00640cec-e7a6-4d2d-d3cd-2c4172795daf",
        "colab": {
          "base_uri": "https://localhost:8080/"
        }
      },
      "execution_count": 21,
      "outputs": [
        {
          "output_type": "stream",
          "name": "stdout",
          "text": [
            "Distance matrix created for competitive analysis\n"
          ]
        }
      ]
    },
    {
      "cell_type": "markdown",
      "source": [
        "model 1"
      ],
      "metadata": {
        "id": "inyCTWzQkhZd"
      }
    },
    {
      "cell_type": "code",
      "source": [
        "class BaselinePricingModel:\n",
        "    def __init__(self, base_price=10, alpha=5):\n",
        "        self.base_price = base_price\n",
        "        self.alpha = alpha\n",
        "        self.price_history = {}\n",
        "\n",
        "    def calculate_price(self, location_id, occupancy_rate, previous_price=None):\n",
        "        \"\"\"Simple linear pricing based on occupancy rate\"\"\"\n",
        "        if previous_price is None:\n",
        "            previous_price = self.base_price\n",
        "\n",
        "        # Linear price adjustment\n",
        "        price_adjustment = self.alpha * occupancy_rate\n",
        "        new_price = previous_price + price_adjustment\n",
        "\n",
        "        # Ensure price bounds (0.5x to 2x base price)\n",
        "        min_price = self.base_price * 0.5\n",
        "        max_price = self.base_price * 2.0\n",
        "        new_price = max(min_price, min(max_price, new_price))\n",
        "\n",
        "        self.price_history[location_id] = new_price\n",
        "        return new_price\n",
        "\n",
        "# Test the baseline model\n",
        "baseline_model = BaselinePricingModel()\n",
        "test_price = baseline_model.calculate_price(1, 0.7)\n",
        "print(f\"Test price for 70% occupancy: ${test_price:.2f}\")\n"
      ],
      "metadata": {
        "id": "6IBkmayrkWCB",
        "outputId": "49383f7c-c3cb-4700-c425-69d047bc7aa5",
        "colab": {
          "base_uri": "https://localhost:8080/"
        }
      },
      "execution_count": 22,
      "outputs": [
        {
          "output_type": "stream",
          "name": "stdout",
          "text": [
            "Test price for 70% occupancy: $13.50\n"
          ]
        }
      ]
    },
    {
      "cell_type": "markdown",
      "source": [
        "model 2"
      ],
      "metadata": {
        "id": "z5UElEv6kmvJ"
      }
    },
    {
      "cell_type": "code",
      "source": [
        "class DemandBasedPricingModel:\n",
        "    def __init__(self, base_price=10):\n",
        "        self.base_price = base_price\n",
        "        self.price_history = {}\n",
        "\n",
        "        # Model parameters (to be tuned)\n",
        "        self.alpha = 8.0    # Occupancy weight\n",
        "        self.beta = 2.0     # Queue length weight\n",
        "        self.gamma = 1.5    # Traffic weight (negative impact)\n",
        "        self.delta = 3.0    # Special day weight\n",
        "        self.epsilon = 1.0  # Vehicle type weight\n",
        "\n",
        "    def calculate_demand(self, occupancy_rate, queue_length, traffic_level,\n",
        "                        is_special_day, vehicle_type_weight):\n",
        "        \"\"\"Calculate demand score using multiple features\"\"\"\n",
        "        demand = (self.alpha * occupancy_rate +\n",
        "                 self.beta * queue_length -\n",
        "                 self.gamma * traffic_level +\n",
        "                 self.delta * is_special_day +\n",
        "                 self.epsilon * vehicle_type_weight)\n",
        "        return demand\n",
        "\n",
        "    def normalize_demand(self, demand, min_demand=-5, max_demand=15):\n",
        "        \"\"\"Normalize demand to [-1, 1] range\"\"\"\n",
        "        normalized = (demand - min_demand) / (max_demand - min_demand)\n",
        "        return 2 * normalized - 1  # Scale to [-1, 1]\n",
        "\n",
        "    def calculate_price(self, location_id, occupancy_rate, queue_length,\n",
        "                       traffic_level, is_special_day, vehicle_type_weight):\n",
        "        \"\"\"Calculate price based on demand function\"\"\"\n",
        "        demand = self.calculate_demand(occupancy_rate, queue_length,\n",
        "                                     traffic_level, is_special_day,\n",
        "                                     vehicle_type_weight)\n",
        "\n",
        "        normalized_demand = self.normalize_demand(demand)\n",
        "\n",
        "        # Price calculation with bounds\n",
        "        lambda_factor = 0.8  # Price sensitivity\n",
        "        new_price = self.base_price * (1 + lambda_factor * normalized_demand)\n",
        "\n",
        "        # Ensure price bounds\n",
        "        min_price = self.base_price * 0.5\n",
        "        max_price = self.base_price * 2.0\n",
        "        new_price = max(min_price, min(max_price, new_price))\n",
        "\n",
        "        self.price_history[location_id] = new_price\n",
        "        return new_price\n",
        "\n",
        "# Test the demand-based model\n",
        "demand_model = DemandBasedPricingModel()\n",
        "test_features = {\n",
        "    'occupancy_rate': 0.8,\n",
        "    'queue_length': 3,\n",
        "    'traffic_level': 0.6,\n",
        "    'is_special_day': 1,\n",
        "    'vehicle_type_weight': 1.2\n",
        "}\n",
        "\n",
        "test_price = demand_model.calculate_price(1, **test_features)\n",
        "print(f\"Demand-based price: ${test_price:.2f}\")\n"
      ],
      "metadata": {
        "id": "2pPQ5kwXkjpf",
        "outputId": "821f6192-d69f-4839-e49b-caf48b6f642f",
        "colab": {
          "base_uri": "https://localhost:8080/"
        }
      },
      "execution_count": 23,
      "outputs": [
        {
          "output_type": "stream",
          "name": "stdout",
          "text": [
            "Demand-based price: $18.56\n"
          ]
        }
      ]
    },
    {
      "cell_type": "markdown",
      "source": [
        "model 3"
      ],
      "metadata": {
        "id": "G5q2JThLkrbO"
      }
    },
    {
      "cell_type": "code",
      "source": [
        "class CompetitivePricingModel(DemandBasedPricingModel):\n",
        "    def __init__(self, base_price=10, distance_matrix=None):\n",
        "        super().__init__(base_price)\n",
        "        self.distance_matrix = distance_matrix\n",
        "        self.competitor_radius = 2.0  # km\n",
        "\n",
        "    def get_nearby_competitors(self, location_id):\n",
        "        \"\"\"Find nearby parking locations within radius\"\"\"\n",
        "        if not self.distance_matrix:\n",
        "            return []\n",
        "\n",
        "        nearby = []\n",
        "        for (loc1, loc2), distance in self.distance_matrix.items():\n",
        "            if loc1 == location_id and distance <= self.competitor_radius:\n",
        "                nearby.append(loc2)\n",
        "        return nearby\n",
        "\n",
        "    def calculate_competitive_price(self, location_id, base_demand_price,\n",
        "                                  competitor_prices, occupancy_rate):\n",
        "        \"\"\"Adjust price based on competitor analysis\"\"\"\n",
        "        if not competitor_prices:\n",
        "            return base_demand_price\n",
        "\n",
        "        avg_competitor_price = np.mean(list(competitor_prices.values()))\n",
        "\n",
        "        # Competitive adjustment logic\n",
        "        if occupancy_rate > 0.9:  # High occupancy\n",
        "            # Can charge premium but stay competitive\n",
        "            competitive_price = min(base_demand_price, avg_competitor_price * 1.1)\n",
        "        elif occupancy_rate < 0.3:  # Low occupancy\n",
        "            # Need to be more attractive\n",
        "            competitive_price = min(base_demand_price, avg_competitor_price * 0.9)\n",
        "        else:\n",
        "            # Moderate adjustment\n",
        "            competitive_price = (base_demand_price + avg_competitor_price) / 2\n",
        "\n",
        "        return competitive_price\n",
        "\n",
        "# Initialize competitive model\n",
        "competitive_model = CompetitivePricingModel(distance_matrix=distance_matrix)\n",
        "print(\"Competitive pricing model initialized\")\n"
      ],
      "metadata": {
        "id": "cqCldIXbkoUG",
        "outputId": "94b3fd35-3928-48fa-e278-24d62bc9c526",
        "colab": {
          "base_uri": "https://localhost:8080/"
        }
      },
      "execution_count": 24,
      "outputs": [
        {
          "output_type": "stream",
          "name": "stdout",
          "text": [
            "Competitive pricing model initialized\n"
          ]
        }
      ]
    },
    {
      "cell_type": "markdown",
      "source": [
        "pathway set up for real time processing"
      ],
      "metadata": {
        "id": "dgOmXJHxkyPq"
      }
    },
    {
      "cell_type": "code",
      "source": [
        "# Simulate real-time data stream using Pathway\n",
        "def create_streaming_data_source(df, delay_ms=1000):\n",
        "    \"\"\"Create a streaming data source from historical data\"\"\"\n",
        "\n",
        "    # Sort data by timestamp for realistic streaming\n",
        "    df_sorted = df.sort_values('datetime')\n",
        "\n",
        "    # Create pathway table for streaming\n",
        "    streaming_data = []\n",
        "    for _, row in df_sorted.iterrows():\n",
        "        streaming_data.append({\n",
        "            'location_id': row.get('location_id', np.random.randint(1, 15)),\n",
        "            'timestamp': row['datetime'],\n",
        "            'occupancy': row['Occupancy'],\n",
        "            'capacity': row['Capacity'],\n",
        "            'queue_length': row['QueueLength'],\n",
        "            'traffic_level': row.get('TrafficLevel', np.random.random()),\n",
        "            'is_special_day': row.get('is_special_day', 0),\n",
        "            'vehicle_type': row.get('vehicle_type', 'car'),\n",
        "            'latitude': row.get('latitude', 40.7128),\n",
        "            'longitude': row.get('Longitude', -74.0060)\n",
        "        })\n",
        "\n",
        "    return streaming_data\n",
        "\n",
        "# Create streaming data\n",
        "streaming_data = create_streaming_data_source(df)\n",
        "print(f\"Created streaming data with {len(streaming_data)} records\")\n"
      ],
      "metadata": {
        "id": "aign2eViktOC",
        "outputId": "16ece04a-8d28-4936-cbe6-8b68142786b1",
        "colab": {
          "base_uri": "https://localhost:8080/"
        }
      },
      "execution_count": 26,
      "outputs": [
        {
          "output_type": "stream",
          "name": "stdout",
          "text": [
            "Created streaming data with 18368 records\n"
          ]
        }
      ]
    },
    {
      "cell_type": "markdown",
      "source": [
        "implementing real time pricing engine"
      ],
      "metadata": {
        "id": "OfyhFk68lDIy"
      }
    },
    {
      "cell_type": "code",
      "source": [
        "class RealTimePricingEngine:\n",
        "    def __init__(self):\n",
        "        self.baseline_model = BaselinePricingModel()\n",
        "        self.demand_model = DemandBasedPricingModel()\n",
        "        self.competitive_model = CompetitivePricingModel(distance_matrix=distance_matrix)\n",
        "        self.current_prices = {}\n",
        "        self.pricing_history = []\n",
        "\n",
        "        # Vehicle type weights\n",
        "        self.vehicle_weights = {'car': 1.0, 'bike': 0.5, 'truck': 1.5}\n",
        "\n",
        "    def process_data_point(self, data_point):\n",
        "        \"\"\"Process a single data point and calculate prices\"\"\"\n",
        "        location_id = data_point['location_id']\n",
        "        occupancy_rate = data_point['occupancy'] / data_point['capacity']\n",
        "        queue_length = data_point['queue_length']\n",
        "        traffic_level = data_point['traffic_level']\n",
        "        is_special_day = data_point['is_special_day']\n",
        "        vehicle_type = data_point['vehicle_type']\n",
        "        vehicle_weight = self.vehicle_weights.get(vehicle_type, 1.0)\n",
        "\n",
        "        # Calculate prices using all three models\n",
        "        baseline_price = self.baseline_model.calculate_price(\n",
        "            location_id, occupancy_rate,\n",
        "            self.current_prices.get(location_id, 10)\n",
        "        )\n",
        "\n",
        "        demand_price = self.demand_model.calculate_price(\n",
        "            location_id, occupancy_rate, queue_length,\n",
        "            traffic_level, is_special_day, vehicle_weight\n",
        "        )\n",
        "\n",
        "        # For demonstration, use demand-based pricing as primary\n",
        "        final_price = demand_price\n",
        "        self.current_prices[location_id] = final_price\n",
        "\n",
        "        # Store pricing history\n",
        "        pricing_record = {\n",
        "            'timestamp': data_point['timestamp'],\n",
        "            'location_id': location_id,\n",
        "            'occupancy_rate': occupancy_rate,\n",
        "            'queue_length': queue_length,\n",
        "            'baseline_price': baseline_price,\n",
        "            'demand_price': demand_price,\n",
        "            'final_price': final_price,\n",
        "            'traffic_level': traffic_level,\n",
        "            'is_special_day': is_special_day\n",
        "        }\n",
        "\n",
        "        self.pricing_history.append(pricing_record)\n",
        "        return pricing_record\n",
        "\n",
        "# Initialize pricing engine\n",
        "pricing_engine = RealTimePricingEngine()\n",
        "print(\"Real-time pricing engine initialized\")\n"
      ],
      "metadata": {
        "id": "hmOoYMaFk1yj",
        "outputId": "28a1c2f2-ce2e-4fbf-fcc8-7b1364d7fa23",
        "colab": {
          "base_uri": "https://localhost:8080/"
        }
      },
      "execution_count": 27,
      "outputs": [
        {
          "output_type": "stream",
          "name": "stdout",
          "text": [
            "Real-time pricing engine initialized\n"
          ]
        }
      ]
    },
    {
      "cell_type": "markdown",
      "source": [
        "creating bokeh visualistaion"
      ],
      "metadata": {
        "id": "8MrXtAr_lJMd"
      }
    },
    {
      "cell_type": "code",
      "source": [
        "# Set up Bokeh for real-time plotting\n",
        "from bokeh.models import DatetimeTickFormatter\n",
        "from bokeh.palettes import Category10\n",
        "\n",
        "def create_bokeh_dashboard():\n",
        "    \"\"\"Create interactive Bokeh dashboard for real-time pricing\"\"\"\n",
        "\n",
        "    # Create data sources for plots\n",
        "    price_source = ColumnDataSource(data={\n",
        "        'timestamp': [],\n",
        "        'location_1': [], 'location_2': [], 'location_3': [], 'location_4': [],\n",
        "        'location_5': [], 'location_6': [], 'location_7': [], 'location_8': [],\n",
        "        'location_9': [], 'location_10': [], 'location_11': [], 'location_12': [],\n",
        "        'location_13': [], 'location_14': []\n",
        "    })\n",
        "\n",
        "    occupancy_source = ColumnDataSource(data={\n",
        "        'timestamp': [],\n",
        "        'avg_occupancy': []\n",
        "    })\n",
        "\n",
        "    # Create pricing plot\n",
        "    price_plot = figure(\n",
        "        title=\"Real-Time Parking Prices by Location\",\n",
        "        x_axis_label=\"Time\",\n",
        "        y_axis_label=\"Price ($)\",\n",
        "        x_axis_type=\"datetime\",\n",
        "        width=900,\n",
        "        height=400,\n",
        "        tools=\"pan,wheel_zoom,box_zoom,reset,save\"\n",
        "    )\n",
        "\n",
        "    # Add lines for each parking location\n",
        "    colors = list(Category10[10]) + ['orange', 'purple', 'brown', 'pink']\n",
        "    for i in range(1, 15):\n",
        "        price_plot.line(\n",
        "            x='timestamp',\n",
        "            y=f'location_{i}',\n",
        "            source=price_source,\n",
        "            legend_label=f'Location {i}',\n",
        "            line_color=colors[i-1],\n",
        "            line_width=2\n",
        "        )\n",
        "\n",
        "    # Create occupancy plot\n",
        "    occupancy_plot = figure(\n",
        "        title=\"Average Occupancy Rate\",\n",
        "        x_axis_label=\"Time\",\n",
        "        y_axis_label=\"Occupancy Rate\",\n",
        "        x_axis_type=\"datetime\",\n",
        "        width=900,\n",
        "        height=300,\n",
        "        tools=\"pan,wheel_zoom,box_zoom,reset,save\"\n",
        "    )\n",
        "\n",
        "    occupancy_plot.line(\n",
        "        x='timestamp',\n",
        "        y='avg_occupancy',\n",
        "        source=occupancy_source,\n",
        "        line_color='blue',\n",
        "        line_width=3\n",
        "    )\n",
        "\n",
        "    # Format datetime axes\n",
        "    datetime_formatter = DatetimeTickFormatter(\n",
        "        hours=\"%H:%M\",\n",
        "    days=\"%m/%d\",\n",
        "    months=\"%m/%Y\"\n",
        "    )\n",
        "\n",
        "    price_plot.xaxis.formatter = datetime_formatter\n",
        "    occupancy_plot.xaxis.formatter = datetime_formatter\n",
        "\n",
        "    # Create layout\n",
        "    dashboard = column(price_plot, occupancy_plot)\n",
        "\n",
        "    return dashboard, price_source, occupancy_source\n",
        "\n",
        "# Create dashboard\n",
        "dashboard, price_source, occupancy_source = create_bokeh_dashboard()\n",
        "show(dashboard)\n"
      ],
      "metadata": {
        "id": "CbIGSb9blGh-",
        "outputId": "84951458-1e09-429e-ef5f-d16b36932385",
        "colab": {
          "base_uri": "https://localhost:8080/",
          "height": 717
        }
      },
      "execution_count": 30,
      "outputs": [
        {
          "output_type": "display_data",
          "data": {
            "application/javascript": [
              "'use strict';\n",
              "(function(root) {\n",
              "  function now() {\n",
              "    return new Date();\n",
              "  }\n",
              "\n",
              "  const force = true;\n",
              "\n",
              "  if (typeof root._bokeh_onload_callbacks === \"undefined\" || force === true) {\n",
              "    root._bokeh_onload_callbacks = [];\n",
              "    root._bokeh_is_loading = undefined;\n",
              "  }\n",
              "\n",
              "const JS_MIME_TYPE = 'application/javascript';\n",
              "  const HTML_MIME_TYPE = 'text/html';\n",
              "  const EXEC_MIME_TYPE = 'application/vnd.bokehjs_exec.v0+json';\n",
              "  const CLASS_NAME = 'output_bokeh rendered_html';\n",
              "\n",
              "  /**\n",
              "   * Render data to the DOM node\n",
              "   */\n",
              "  function render(props, node) {\n",
              "    const script = document.createElement(\"script\");\n",
              "    node.appendChild(script);\n",
              "  }\n",
              "\n",
              "  /**\n",
              "   * Handle when an output is cleared or removed\n",
              "   */\n",
              "  function handleClearOutput(event, handle) {\n",
              "    function drop(id) {\n",
              "      const view = Bokeh.index.get_by_id(id)\n",
              "      if (view != null) {\n",
              "        view.model.document.clear()\n",
              "        Bokeh.index.delete(view)\n",
              "      }\n",
              "    }\n",
              "\n",
              "    const cell = handle.cell;\n",
              "\n",
              "    const id = cell.output_area._bokeh_element_id;\n",
              "    const server_id = cell.output_area._bokeh_server_id;\n",
              "\n",
              "    // Clean up Bokeh references\n",
              "    if (id != null) {\n",
              "      drop(id)\n",
              "    }\n",
              "\n",
              "    if (server_id !== undefined) {\n",
              "      // Clean up Bokeh references\n",
              "      const cmd_clean = \"from bokeh.io.state import curstate; print(curstate().uuid_to_server['\" + server_id + \"'].get_sessions()[0].document.roots[0]._id)\";\n",
              "      cell.notebook.kernel.execute(cmd_clean, {\n",
              "        iopub: {\n",
              "          output: function(msg) {\n",
              "            const id = msg.content.text.trim()\n",
              "            drop(id)\n",
              "          }\n",
              "        }\n",
              "      });\n",
              "      // Destroy server and session\n",
              "      const cmd_destroy = \"import bokeh.io.notebook as ion; ion.destroy_server('\" + server_id + \"')\";\n",
              "      cell.notebook.kernel.execute(cmd_destroy);\n",
              "    }\n",
              "  }\n",
              "\n",
              "  /**\n",
              "   * Handle when a new output is added\n",
              "   */\n",
              "  function handleAddOutput(event, handle) {\n",
              "    const output_area = handle.output_area;\n",
              "    const output = handle.output;\n",
              "\n",
              "    // limit handleAddOutput to display_data with EXEC_MIME_TYPE content only\n",
              "    if ((output.output_type != \"display_data\") || (!Object.prototype.hasOwnProperty.call(output.data, EXEC_MIME_TYPE))) {\n",
              "      return\n",
              "    }\n",
              "\n",
              "    const toinsert = output_area.element.find(\".\" + CLASS_NAME.split(' ')[0]);\n",
              "\n",
              "    if (output.metadata[EXEC_MIME_TYPE][\"id\"] !== undefined) {\n",
              "      toinsert[toinsert.length - 1].firstChild.textContent = output.data[JS_MIME_TYPE];\n",
              "      // store reference to embed id on output_area\n",
              "      output_area._bokeh_element_id = output.metadata[EXEC_MIME_TYPE][\"id\"];\n",
              "    }\n",
              "    if (output.metadata[EXEC_MIME_TYPE][\"server_id\"] !== undefined) {\n",
              "      const bk_div = document.createElement(\"div\");\n",
              "      bk_div.innerHTML = output.data[HTML_MIME_TYPE];\n",
              "      const script_attrs = bk_div.children[0].attributes;\n",
              "      for (let i = 0; i < script_attrs.length; i++) {\n",
              "        toinsert[toinsert.length - 1].firstChild.setAttribute(script_attrs[i].name, script_attrs[i].value);\n",
              "        toinsert[toinsert.length - 1].firstChild.textContent = bk_div.children[0].textContent\n",
              "      }\n",
              "      // store reference to server id on output_area\n",
              "      output_area._bokeh_server_id = output.metadata[EXEC_MIME_TYPE][\"server_id\"];\n",
              "    }\n",
              "  }\n",
              "\n",
              "  function register_renderer(events, OutputArea) {\n",
              "\n",
              "    function append_mime(data, metadata, element) {\n",
              "      // create a DOM node to render to\n",
              "      const toinsert = this.create_output_subarea(\n",
              "        metadata,\n",
              "        CLASS_NAME,\n",
              "        EXEC_MIME_TYPE\n",
              "      );\n",
              "      this.keyboard_manager.register_events(toinsert);\n",
              "      // Render to node\n",
              "      const props = {data: data, metadata: metadata[EXEC_MIME_TYPE]};\n",
              "      render(props, toinsert[toinsert.length - 1]);\n",
              "      element.append(toinsert);\n",
              "      return toinsert\n",
              "    }\n",
              "\n",
              "    /* Handle when an output is cleared or removed */\n",
              "    events.on('clear_output.CodeCell', handleClearOutput);\n",
              "    events.on('delete.Cell', handleClearOutput);\n",
              "\n",
              "    /* Handle when a new output is added */\n",
              "    events.on('output_added.OutputArea', handleAddOutput);\n",
              "\n",
              "    /**\n",
              "     * Register the mime type and append_mime function with output_area\n",
              "     */\n",
              "    OutputArea.prototype.register_mime_type(EXEC_MIME_TYPE, append_mime, {\n",
              "      /* Is output safe? */\n",
              "      safe: true,\n",
              "      /* Index of renderer in `output_area.display_order` */\n",
              "      index: 0\n",
              "    });\n",
              "  }\n",
              "\n",
              "  // register the mime type if in Jupyter Notebook environment and previously unregistered\n",
              "  if (root.Jupyter !== undefined) {\n",
              "    const events = require('base/js/events');\n",
              "    const OutputArea = require('notebook/js/outputarea').OutputArea;\n",
              "\n",
              "    if (OutputArea.prototype.mime_types().indexOf(EXEC_MIME_TYPE) == -1) {\n",
              "      register_renderer(events, OutputArea);\n",
              "    }\n",
              "  }\n",
              "  if (typeof (root._bokeh_timeout) === \"undefined\" || force === true) {\n",
              "    root._bokeh_timeout = Date.now() + 5000;\n",
              "    root._bokeh_failed_load = false;\n",
              "  }\n",
              "\n",
              "  const NB_LOAD_WARNING = {'data': {'text/html':\n",
              "     \"<div style='background-color: #fdd'>\\n\"+\n",
              "     \"<p>\\n\"+\n",
              "     \"BokehJS does not appear to have successfully loaded. If loading BokehJS from CDN, this \\n\"+\n",
              "     \"may be due to a slow or bad network connection. Possible fixes:\\n\"+\n",
              "     \"</p>\\n\"+\n",
              "     \"<ul>\\n\"+\n",
              "     \"<li>re-rerun `output_notebook()` to attempt to load from CDN again, or</li>\\n\"+\n",
              "     \"<li>use INLINE resources instead, as so:</li>\\n\"+\n",
              "     \"</ul>\\n\"+\n",
              "     \"<code>\\n\"+\n",
              "     \"from bokeh.resources import INLINE\\n\"+\n",
              "     \"output_notebook(resources=INLINE)\\n\"+\n",
              "     \"</code>\\n\"+\n",
              "     \"</div>\"}};\n",
              "\n",
              "  function display_loaded(error = null) {\n",
              "    const el = document.getElementById(null);\n",
              "    if (el != null) {\n",
              "      const html = (() => {\n",
              "        if (typeof root.Bokeh === \"undefined\") {\n",
              "          if (error == null) {\n",
              "            return \"BokehJS is loading ...\";\n",
              "          } else {\n",
              "            return \"BokehJS failed to load.\";\n",
              "          }\n",
              "        } else {\n",
              "          const prefix = `BokehJS ${root.Bokeh.version}`;\n",
              "          if (error == null) {\n",
              "            return `${prefix} successfully loaded.`;\n",
              "          } else {\n",
              "            return `${prefix} <b>encountered errors</b> while loading and may not function as expected.`;\n",
              "          }\n",
              "        }\n",
              "      })();\n",
              "      el.innerHTML = html;\n",
              "\n",
              "      if (error != null) {\n",
              "        const wrapper = document.createElement(\"div\");\n",
              "        wrapper.style.overflow = \"auto\";\n",
              "        wrapper.style.height = \"5em\";\n",
              "        wrapper.style.resize = \"vertical\";\n",
              "        const content = document.createElement(\"div\");\n",
              "        content.style.fontFamily = \"monospace\";\n",
              "        content.style.whiteSpace = \"pre-wrap\";\n",
              "        content.style.backgroundColor = \"rgb(255, 221, 221)\";\n",
              "        content.textContent = error.stack ?? error.toString();\n",
              "        wrapper.append(content);\n",
              "        el.append(wrapper);\n",
              "      }\n",
              "    } else if (Date.now() < root._bokeh_timeout) {\n",
              "      setTimeout(() => display_loaded(error), 100);\n",
              "    }\n",
              "  }\n",
              "\n",
              "  function run_callbacks() {\n",
              "    try {\n",
              "      root._bokeh_onload_callbacks.forEach(function(callback) {\n",
              "        if (callback != null)\n",
              "          callback();\n",
              "      });\n",
              "    } finally {\n",
              "      delete root._bokeh_onload_callbacks\n",
              "    }\n",
              "    console.debug(\"Bokeh: all callbacks have finished\");\n",
              "  }\n",
              "\n",
              "  function load_libs(css_urls, js_urls, callback) {\n",
              "    if (css_urls == null) css_urls = [];\n",
              "    if (js_urls == null) js_urls = [];\n",
              "\n",
              "    root._bokeh_onload_callbacks.push(callback);\n",
              "    if (root._bokeh_is_loading > 0) {\n",
              "      console.debug(\"Bokeh: BokehJS is being loaded, scheduling callback at\", now());\n",
              "      return null;\n",
              "    }\n",
              "    if (js_urls == null || js_urls.length === 0) {\n",
              "      run_callbacks();\n",
              "      return null;\n",
              "    }\n",
              "    console.debug(\"Bokeh: BokehJS not loaded, scheduling load and callback at\", now());\n",
              "    root._bokeh_is_loading = css_urls.length + js_urls.length;\n",
              "\n",
              "    function on_load() {\n",
              "      root._bokeh_is_loading--;\n",
              "      if (root._bokeh_is_loading === 0) {\n",
              "        console.debug(\"Bokeh: all BokehJS libraries/stylesheets loaded\");\n",
              "        run_callbacks()\n",
              "      }\n",
              "    }\n",
              "\n",
              "    function on_error(url) {\n",
              "      console.error(\"failed to load \" + url);\n",
              "    }\n",
              "\n",
              "    for (let i = 0; i < css_urls.length; i++) {\n",
              "      const url = css_urls[i];\n",
              "      const element = document.createElement(\"link\");\n",
              "      element.onload = on_load;\n",
              "      element.onerror = on_error.bind(null, url);\n",
              "      element.rel = \"stylesheet\";\n",
              "      element.type = \"text/css\";\n",
              "      element.href = url;\n",
              "      console.debug(\"Bokeh: injecting link tag for BokehJS stylesheet: \", url);\n",
              "      document.body.appendChild(element);\n",
              "    }\n",
              "\n",
              "    for (let i = 0; i < js_urls.length; i++) {\n",
              "      const url = js_urls[i];\n",
              "      const element = document.createElement('script');\n",
              "      element.onload = on_load;\n",
              "      element.onerror = on_error.bind(null, url);\n",
              "      element.async = false;\n",
              "      element.src = url;\n",
              "      console.debug(\"Bokeh: injecting script tag for BokehJS library: \", url);\n",
              "      document.head.appendChild(element);\n",
              "    }\n",
              "  };\n",
              "\n",
              "  function inject_raw_css(css) {\n",
              "    const element = document.createElement(\"style\");\n",
              "    element.appendChild(document.createTextNode(css));\n",
              "    document.body.appendChild(element);\n",
              "  }\n",
              "\n",
              "  const js_urls = [\"https://cdn.bokeh.org/bokeh/release/bokeh-3.7.3.min.js\", \"https://cdn.bokeh.org/bokeh/release/bokeh-gl-3.7.3.min.js\", \"https://cdn.bokeh.org/bokeh/release/bokeh-widgets-3.7.3.min.js\", \"https://cdn.bokeh.org/bokeh/release/bokeh-tables-3.7.3.min.js\", \"https://cdn.bokeh.org/bokeh/release/bokeh-mathjax-3.7.3.min.js\"];\n",
              "  const css_urls = [];\n",
              "\n",
              "  const inline_js = [    function(Bokeh) {\n",
              "      Bokeh.set_log_level(\"info\");\n",
              "    },\n",
              "function(Bokeh) {\n",
              "    }\n",
              "  ];\n",
              "\n",
              "  function run_inline_js() {\n",
              "    if (root.Bokeh !== undefined || force === true) {\n",
              "      try {\n",
              "            for (let i = 0; i < inline_js.length; i++) {\n",
              "      inline_js[i].call(root, root.Bokeh);\n",
              "    }\n",
              "\n",
              "      } catch (error) {throw error;\n",
              "      }} else if (Date.now() < root._bokeh_timeout) {\n",
              "      setTimeout(run_inline_js, 100);\n",
              "    } else if (!root._bokeh_failed_load) {\n",
              "      console.log(\"Bokeh: BokehJS failed to load within specified timeout.\");\n",
              "      root._bokeh_failed_load = true;\n",
              "    } else if (force !== true) {\n",
              "      const cell = $(document.getElementById(null)).parents('.cell').data().cell;\n",
              "      cell.output_area.append_execute_result(NB_LOAD_WARNING)\n",
              "    }\n",
              "  }\n",
              "\n",
              "  if (root._bokeh_is_loading === 0) {\n",
              "    console.debug(\"Bokeh: BokehJS loaded, going straight to plotting\");\n",
              "    run_inline_js();\n",
              "  } else {\n",
              "    load_libs(css_urls, js_urls, function() {\n",
              "      console.debug(\"Bokeh: BokehJS plotting callback run at\", now());\n",
              "      run_inline_js();\n",
              "    });\n",
              "  }\n",
              "}(window));"
            ],
            "application/vnd.bokehjs_load.v0+json": "'use strict';\n(function(root) {\n  function now() {\n    return new Date();\n  }\n\n  const force = true;\n\n  if (typeof root._bokeh_onload_callbacks === \"undefined\" || force === true) {\n    root._bokeh_onload_callbacks = [];\n    root._bokeh_is_loading = undefined;\n  }\n\n\n  if (typeof (root._bokeh_timeout) === \"undefined\" || force === true) {\n    root._bokeh_timeout = Date.now() + 5000;\n    root._bokeh_failed_load = false;\n  }\n\n  const NB_LOAD_WARNING = {'data': {'text/html':\n     \"<div style='background-color: #fdd'>\\n\"+\n     \"<p>\\n\"+\n     \"BokehJS does not appear to have successfully loaded. If loading BokehJS from CDN, this \\n\"+\n     \"may be due to a slow or bad network connection. Possible fixes:\\n\"+\n     \"</p>\\n\"+\n     \"<ul>\\n\"+\n     \"<li>re-rerun `output_notebook()` to attempt to load from CDN again, or</li>\\n\"+\n     \"<li>use INLINE resources instead, as so:</li>\\n\"+\n     \"</ul>\\n\"+\n     \"<code>\\n\"+\n     \"from bokeh.resources import INLINE\\n\"+\n     \"output_notebook(resources=INLINE)\\n\"+\n     \"</code>\\n\"+\n     \"</div>\"}};\n\n  function display_loaded(error = null) {\n    const el = document.getElementById(null);\n    if (el != null) {\n      const html = (() => {\n        if (typeof root.Bokeh === \"undefined\") {\n          if (error == null) {\n            return \"BokehJS is loading ...\";\n          } else {\n            return \"BokehJS failed to load.\";\n          }\n        } else {\n          const prefix = `BokehJS ${root.Bokeh.version}`;\n          if (error == null) {\n            return `${prefix} successfully loaded.`;\n          } else {\n            return `${prefix} <b>encountered errors</b> while loading and may not function as expected.`;\n          }\n        }\n      })();\n      el.innerHTML = html;\n\n      if (error != null) {\n        const wrapper = document.createElement(\"div\");\n        wrapper.style.overflow = \"auto\";\n        wrapper.style.height = \"5em\";\n        wrapper.style.resize = \"vertical\";\n        const content = document.createElement(\"div\");\n        content.style.fontFamily = \"monospace\";\n        content.style.whiteSpace = \"pre-wrap\";\n        content.style.backgroundColor = \"rgb(255, 221, 221)\";\n        content.textContent = error.stack ?? error.toString();\n        wrapper.append(content);\n        el.append(wrapper);\n      }\n    } else if (Date.now() < root._bokeh_timeout) {\n      setTimeout(() => display_loaded(error), 100);\n    }\n  }\n\n  function run_callbacks() {\n    try {\n      root._bokeh_onload_callbacks.forEach(function(callback) {\n        if (callback != null)\n          callback();\n      });\n    } finally {\n      delete root._bokeh_onload_callbacks\n    }\n    console.debug(\"Bokeh: all callbacks have finished\");\n  }\n\n  function load_libs(css_urls, js_urls, callback) {\n    if (css_urls == null) css_urls = [];\n    if (js_urls == null) js_urls = [];\n\n    root._bokeh_onload_callbacks.push(callback);\n    if (root._bokeh_is_loading > 0) {\n      console.debug(\"Bokeh: BokehJS is being loaded, scheduling callback at\", now());\n      return null;\n    }\n    if (js_urls == null || js_urls.length === 0) {\n      run_callbacks();\n      return null;\n    }\n    console.debug(\"Bokeh: BokehJS not loaded, scheduling load and callback at\", now());\n    root._bokeh_is_loading = css_urls.length + js_urls.length;\n\n    function on_load() {\n      root._bokeh_is_loading--;\n      if (root._bokeh_is_loading === 0) {\n        console.debug(\"Bokeh: all BokehJS libraries/stylesheets loaded\");\n        run_callbacks()\n      }\n    }\n\n    function on_error(url) {\n      console.error(\"failed to load \" + url);\n    }\n\n    for (let i = 0; i < css_urls.length; i++) {\n      const url = css_urls[i];\n      const element = document.createElement(\"link\");\n      element.onload = on_load;\n      element.onerror = on_error.bind(null, url);\n      element.rel = \"stylesheet\";\n      element.type = \"text/css\";\n      element.href = url;\n      console.debug(\"Bokeh: injecting link tag for BokehJS stylesheet: \", url);\n      document.body.appendChild(element);\n    }\n\n    for (let i = 0; i < js_urls.length; i++) {\n      const url = js_urls[i];\n      const element = document.createElement('script');\n      element.onload = on_load;\n      element.onerror = on_error.bind(null, url);\n      element.async = false;\n      element.src = url;\n      console.debug(\"Bokeh: injecting script tag for BokehJS library: \", url);\n      document.head.appendChild(element);\n    }\n  };\n\n  function inject_raw_css(css) {\n    const element = document.createElement(\"style\");\n    element.appendChild(document.createTextNode(css));\n    document.body.appendChild(element);\n  }\n\n  const js_urls = [\"https://cdn.bokeh.org/bokeh/release/bokeh-3.7.3.min.js\", \"https://cdn.bokeh.org/bokeh/release/bokeh-gl-3.7.3.min.js\", \"https://cdn.bokeh.org/bokeh/release/bokeh-widgets-3.7.3.min.js\", \"https://cdn.bokeh.org/bokeh/release/bokeh-tables-3.7.3.min.js\", \"https://cdn.bokeh.org/bokeh/release/bokeh-mathjax-3.7.3.min.js\"];\n  const css_urls = [];\n\n  const inline_js = [    function(Bokeh) {\n      Bokeh.set_log_level(\"info\");\n    },\nfunction(Bokeh) {\n    }\n  ];\n\n  function run_inline_js() {\n    if (root.Bokeh !== undefined || force === true) {\n      try {\n            for (let i = 0; i < inline_js.length; i++) {\n      inline_js[i].call(root, root.Bokeh);\n    }\n\n      } catch (error) {throw error;\n      }} else if (Date.now() < root._bokeh_timeout) {\n      setTimeout(run_inline_js, 100);\n    } else if (!root._bokeh_failed_load) {\n      console.log(\"Bokeh: BokehJS failed to load within specified timeout.\");\n      root._bokeh_failed_load = true;\n    } else if (force !== true) {\n      const cell = $(document.getElementById(null)).parents('.cell').data().cell;\n      cell.output_area.append_execute_result(NB_LOAD_WARNING)\n    }\n  }\n\n  if (root._bokeh_is_loading === 0) {\n    console.debug(\"Bokeh: BokehJS loaded, going straight to plotting\");\n    run_inline_js();\n  } else {\n    load_libs(css_urls, js_urls, function() {\n      console.debug(\"Bokeh: BokehJS plotting callback run at\", now());\n      run_inline_js();\n    });\n  }\n}(window));"
          },
          "metadata": {}
        },
        {
          "output_type": "display_data",
          "data": {
            "text/html": [
              "\n",
              "  <div id=\"f4fc14a9-5b31-43ea-a622-d7c5fe5f42e8\" data-root-id=\"p1563\" style=\"display: contents;\"></div>\n"
            ]
          },
          "metadata": {}
        },
        {
          "output_type": "display_data",
          "data": {
            "application/javascript": [
              "(function(root) {\n",
              "  function embed_document(root) {\n",
              "  const docs_json = {\"90cd1636-e1b9-411e-8843-77de1e8288aa\":{\"version\":\"3.7.3\",\"title\":\"Bokeh Application\",\"roots\":[{\"type\":\"object\",\"name\":\"Column\",\"id\":\"p1563\",\"attributes\":{\"children\":[{\"type\":\"object\",\"name\":\"Figure\",\"id\":\"p1316\",\"attributes\":{\"width\":900,\"height\":400,\"x_range\":{\"type\":\"object\",\"name\":\"DataRange1d\",\"id\":\"p1317\"},\"y_range\":{\"type\":\"object\",\"name\":\"DataRange1d\",\"id\":\"p1318\"},\"x_scale\":{\"type\":\"object\",\"name\":\"LinearScale\",\"id\":\"p1326\"},\"y_scale\":{\"type\":\"object\",\"name\":\"LinearScale\",\"id\":\"p1327\"},\"title\":{\"type\":\"object\",\"name\":\"Title\",\"id\":\"p1319\",\"attributes\":{\"text\":\"Real-Time Parking Prices by Location\"}},\"renderers\":[{\"type\":\"object\",\"name\":\"GlyphRenderer\",\"id\":\"p1370\",\"attributes\":{\"data_source\":{\"type\":\"object\",\"name\":\"ColumnDataSource\",\"id\":\"p1310\",\"attributes\":{\"selected\":{\"type\":\"object\",\"name\":\"Selection\",\"id\":\"p1311\",\"attributes\":{\"indices\":[],\"line_indices\":[]}},\"selection_policy\":{\"type\":\"object\",\"name\":\"UnionRenderers\",\"id\":\"p1312\"},\"data\":{\"type\":\"map\",\"entries\":[[\"timestamp\",[]],[\"location_1\",[]],[\"location_2\",[]],[\"location_3\",[]],[\"location_4\",[]],[\"location_5\",[]],[\"location_6\",[]],[\"location_7\",[]],[\"location_8\",[]],[\"location_9\",[]],[\"location_10\",[]],[\"location_11\",[]],[\"location_12\",[]],[\"location_13\",[]],[\"location_14\",[]]]}}},\"view\":{\"type\":\"object\",\"name\":\"CDSView\",\"id\":\"p1371\",\"attributes\":{\"filter\":{\"type\":\"object\",\"name\":\"AllIndices\",\"id\":\"p1372\"}}},\"glyph\":{\"type\":\"object\",\"name\":\"Line\",\"id\":\"p1367\",\"attributes\":{\"x\":{\"type\":\"field\",\"field\":\"timestamp\"},\"y\":{\"type\":\"field\",\"field\":\"location_1\"},\"line_color\":\"#1f77b4\",\"line_width\":2}},\"nonselection_glyph\":{\"type\":\"object\",\"name\":\"Line\",\"id\":\"p1368\",\"attributes\":{\"x\":{\"type\":\"field\",\"field\":\"timestamp\"},\"y\":{\"type\":\"field\",\"field\":\"location_1\"},\"line_color\":\"#1f77b4\",\"line_alpha\":0.1,\"line_width\":2}},\"muted_glyph\":{\"type\":\"object\",\"name\":\"Line\",\"id\":\"p1369\",\"attributes\":{\"x\":{\"type\":\"field\",\"field\":\"timestamp\"},\"y\":{\"type\":\"field\",\"field\":\"location_1\"},\"line_color\":\"#1f77b4\",\"line_alpha\":0.2,\"line_width\":2}}}},{\"type\":\"object\",\"name\":\"GlyphRenderer\",\"id\":\"p1381\",\"attributes\":{\"data_source\":{\"id\":\"p1310\"},\"view\":{\"type\":\"object\",\"name\":\"CDSView\",\"id\":\"p1382\",\"attributes\":{\"filter\":{\"type\":\"object\",\"name\":\"AllIndices\",\"id\":\"p1383\"}}},\"glyph\":{\"type\":\"object\",\"name\":\"Line\",\"id\":\"p1378\",\"attributes\":{\"x\":{\"type\":\"field\",\"field\":\"timestamp\"},\"y\":{\"type\":\"field\",\"field\":\"location_2\"},\"line_color\":\"#ff7f0e\",\"line_width\":2}},\"nonselection_glyph\":{\"type\":\"object\",\"name\":\"Line\",\"id\":\"p1379\",\"attributes\":{\"x\":{\"type\":\"field\",\"field\":\"timestamp\"},\"y\":{\"type\":\"field\",\"field\":\"location_2\"},\"line_color\":\"#ff7f0e\",\"line_alpha\":0.1,\"line_width\":2}},\"muted_glyph\":{\"type\":\"object\",\"name\":\"Line\",\"id\":\"p1380\",\"attributes\":{\"x\":{\"type\":\"field\",\"field\":\"timestamp\"},\"y\":{\"type\":\"field\",\"field\":\"location_2\"},\"line_color\":\"#ff7f0e\",\"line_alpha\":0.2,\"line_width\":2}}}},{\"type\":\"object\",\"name\":\"GlyphRenderer\",\"id\":\"p1391\",\"attributes\":{\"data_source\":{\"id\":\"p1310\"},\"view\":{\"type\":\"object\",\"name\":\"CDSView\",\"id\":\"p1392\",\"attributes\":{\"filter\":{\"type\":\"object\",\"name\":\"AllIndices\",\"id\":\"p1393\"}}},\"glyph\":{\"type\":\"object\",\"name\":\"Line\",\"id\":\"p1388\",\"attributes\":{\"x\":{\"type\":\"field\",\"field\":\"timestamp\"},\"y\":{\"type\":\"field\",\"field\":\"location_3\"},\"line_color\":\"#2ca02c\",\"line_width\":2}},\"nonselection_glyph\":{\"type\":\"object\",\"name\":\"Line\",\"id\":\"p1389\",\"attributes\":{\"x\":{\"type\":\"field\",\"field\":\"timestamp\"},\"y\":{\"type\":\"field\",\"field\":\"location_3\"},\"line_color\":\"#2ca02c\",\"line_alpha\":0.1,\"line_width\":2}},\"muted_glyph\":{\"type\":\"object\",\"name\":\"Line\",\"id\":\"p1390\",\"attributes\":{\"x\":{\"type\":\"field\",\"field\":\"timestamp\"},\"y\":{\"type\":\"field\",\"field\":\"location_3\"},\"line_color\":\"#2ca02c\",\"line_alpha\":0.2,\"line_width\":2}}}},{\"type\":\"object\",\"name\":\"GlyphRenderer\",\"id\":\"p1401\",\"attributes\":{\"data_source\":{\"id\":\"p1310\"},\"view\":{\"type\":\"object\",\"name\":\"CDSView\",\"id\":\"p1402\",\"attributes\":{\"filter\":{\"type\":\"object\",\"name\":\"AllIndices\",\"id\":\"p1403\"}}},\"glyph\":{\"type\":\"object\",\"name\":\"Line\",\"id\":\"p1398\",\"attributes\":{\"x\":{\"type\":\"field\",\"field\":\"timestamp\"},\"y\":{\"type\":\"field\",\"field\":\"location_4\"},\"line_color\":\"#d62728\",\"line_width\":2}},\"nonselection_glyph\":{\"type\":\"object\",\"name\":\"Line\",\"id\":\"p1399\",\"attributes\":{\"x\":{\"type\":\"field\",\"field\":\"timestamp\"},\"y\":{\"type\":\"field\",\"field\":\"location_4\"},\"line_color\":\"#d62728\",\"line_alpha\":0.1,\"line_width\":2}},\"muted_glyph\":{\"type\":\"object\",\"name\":\"Line\",\"id\":\"p1400\",\"attributes\":{\"x\":{\"type\":\"field\",\"field\":\"timestamp\"},\"y\":{\"type\":\"field\",\"field\":\"location_4\"},\"line_color\":\"#d62728\",\"line_alpha\":0.2,\"line_width\":2}}}},{\"type\":\"object\",\"name\":\"GlyphRenderer\",\"id\":\"p1411\",\"attributes\":{\"data_source\":{\"id\":\"p1310\"},\"view\":{\"type\":\"object\",\"name\":\"CDSView\",\"id\":\"p1412\",\"attributes\":{\"filter\":{\"type\":\"object\",\"name\":\"AllIndices\",\"id\":\"p1413\"}}},\"glyph\":{\"type\":\"object\",\"name\":\"Line\",\"id\":\"p1408\",\"attributes\":{\"x\":{\"type\":\"field\",\"field\":\"timestamp\"},\"y\":{\"type\":\"field\",\"field\":\"location_5\"},\"line_color\":\"#9467bd\",\"line_width\":2}},\"nonselection_glyph\":{\"type\":\"object\",\"name\":\"Line\",\"id\":\"p1409\",\"attributes\":{\"x\":{\"type\":\"field\",\"field\":\"timestamp\"},\"y\":{\"type\":\"field\",\"field\":\"location_5\"},\"line_color\":\"#9467bd\",\"line_alpha\":0.1,\"line_width\":2}},\"muted_glyph\":{\"type\":\"object\",\"name\":\"Line\",\"id\":\"p1410\",\"attributes\":{\"x\":{\"type\":\"field\",\"field\":\"timestamp\"},\"y\":{\"type\":\"field\",\"field\":\"location_5\"},\"line_color\":\"#9467bd\",\"line_alpha\":0.2,\"line_width\":2}}}},{\"type\":\"object\",\"name\":\"GlyphRenderer\",\"id\":\"p1421\",\"attributes\":{\"data_source\":{\"id\":\"p1310\"},\"view\":{\"type\":\"object\",\"name\":\"CDSView\",\"id\":\"p1422\",\"attributes\":{\"filter\":{\"type\":\"object\",\"name\":\"AllIndices\",\"id\":\"p1423\"}}},\"glyph\":{\"type\":\"object\",\"name\":\"Line\",\"id\":\"p1418\",\"attributes\":{\"x\":{\"type\":\"field\",\"field\":\"timestamp\"},\"y\":{\"type\":\"field\",\"field\":\"location_6\"},\"line_color\":\"#8c564b\",\"line_width\":2}},\"nonselection_glyph\":{\"type\":\"object\",\"name\":\"Line\",\"id\":\"p1419\",\"attributes\":{\"x\":{\"type\":\"field\",\"field\":\"timestamp\"},\"y\":{\"type\":\"field\",\"field\":\"location_6\"},\"line_color\":\"#8c564b\",\"line_alpha\":0.1,\"line_width\":2}},\"muted_glyph\":{\"type\":\"object\",\"name\":\"Line\",\"id\":\"p1420\",\"attributes\":{\"x\":{\"type\":\"field\",\"field\":\"timestamp\"},\"y\":{\"type\":\"field\",\"field\":\"location_6\"},\"line_color\":\"#8c564b\",\"line_alpha\":0.2,\"line_width\":2}}}},{\"type\":\"object\",\"name\":\"GlyphRenderer\",\"id\":\"p1431\",\"attributes\":{\"data_source\":{\"id\":\"p1310\"},\"view\":{\"type\":\"object\",\"name\":\"CDSView\",\"id\":\"p1432\",\"attributes\":{\"filter\":{\"type\":\"object\",\"name\":\"AllIndices\",\"id\":\"p1433\"}}},\"glyph\":{\"type\":\"object\",\"name\":\"Line\",\"id\":\"p1428\",\"attributes\":{\"x\":{\"type\":\"field\",\"field\":\"timestamp\"},\"y\":{\"type\":\"field\",\"field\":\"location_7\"},\"line_color\":\"#e377c2\",\"line_width\":2}},\"nonselection_glyph\":{\"type\":\"object\",\"name\":\"Line\",\"id\":\"p1429\",\"attributes\":{\"x\":{\"type\":\"field\",\"field\":\"timestamp\"},\"y\":{\"type\":\"field\",\"field\":\"location_7\"},\"line_color\":\"#e377c2\",\"line_alpha\":0.1,\"line_width\":2}},\"muted_glyph\":{\"type\":\"object\",\"name\":\"Line\",\"id\":\"p1430\",\"attributes\":{\"x\":{\"type\":\"field\",\"field\":\"timestamp\"},\"y\":{\"type\":\"field\",\"field\":\"location_7\"},\"line_color\":\"#e377c2\",\"line_alpha\":0.2,\"line_width\":2}}}},{\"type\":\"object\",\"name\":\"GlyphRenderer\",\"id\":\"p1441\",\"attributes\":{\"data_source\":{\"id\":\"p1310\"},\"view\":{\"type\":\"object\",\"name\":\"CDSView\",\"id\":\"p1442\",\"attributes\":{\"filter\":{\"type\":\"object\",\"name\":\"AllIndices\",\"id\":\"p1443\"}}},\"glyph\":{\"type\":\"object\",\"name\":\"Line\",\"id\":\"p1438\",\"attributes\":{\"x\":{\"type\":\"field\",\"field\":\"timestamp\"},\"y\":{\"type\":\"field\",\"field\":\"location_8\"},\"line_color\":\"#7f7f7f\",\"line_width\":2}},\"nonselection_glyph\":{\"type\":\"object\",\"name\":\"Line\",\"id\":\"p1439\",\"attributes\":{\"x\":{\"type\":\"field\",\"field\":\"timestamp\"},\"y\":{\"type\":\"field\",\"field\":\"location_8\"},\"line_color\":\"#7f7f7f\",\"line_alpha\":0.1,\"line_width\":2}},\"muted_glyph\":{\"type\":\"object\",\"name\":\"Line\",\"id\":\"p1440\",\"attributes\":{\"x\":{\"type\":\"field\",\"field\":\"timestamp\"},\"y\":{\"type\":\"field\",\"field\":\"location_8\"},\"line_color\":\"#7f7f7f\",\"line_alpha\":0.2,\"line_width\":2}}}},{\"type\":\"object\",\"name\":\"GlyphRenderer\",\"id\":\"p1451\",\"attributes\":{\"data_source\":{\"id\":\"p1310\"},\"view\":{\"type\":\"object\",\"name\":\"CDSView\",\"id\":\"p1452\",\"attributes\":{\"filter\":{\"type\":\"object\",\"name\":\"AllIndices\",\"id\":\"p1453\"}}},\"glyph\":{\"type\":\"object\",\"name\":\"Line\",\"id\":\"p1448\",\"attributes\":{\"x\":{\"type\":\"field\",\"field\":\"timestamp\"},\"y\":{\"type\":\"field\",\"field\":\"location_9\"},\"line_color\":\"#bcbd22\",\"line_width\":2}},\"nonselection_glyph\":{\"type\":\"object\",\"name\":\"Line\",\"id\":\"p1449\",\"attributes\":{\"x\":{\"type\":\"field\",\"field\":\"timestamp\"},\"y\":{\"type\":\"field\",\"field\":\"location_9\"},\"line_color\":\"#bcbd22\",\"line_alpha\":0.1,\"line_width\":2}},\"muted_glyph\":{\"type\":\"object\",\"name\":\"Line\",\"id\":\"p1450\",\"attributes\":{\"x\":{\"type\":\"field\",\"field\":\"timestamp\"},\"y\":{\"type\":\"field\",\"field\":\"location_9\"},\"line_color\":\"#bcbd22\",\"line_alpha\":0.2,\"line_width\":2}}}},{\"type\":\"object\",\"name\":\"GlyphRenderer\",\"id\":\"p1461\",\"attributes\":{\"data_source\":{\"id\":\"p1310\"},\"view\":{\"type\":\"object\",\"name\":\"CDSView\",\"id\":\"p1462\",\"attributes\":{\"filter\":{\"type\":\"object\",\"name\":\"AllIndices\",\"id\":\"p1463\"}}},\"glyph\":{\"type\":\"object\",\"name\":\"Line\",\"id\":\"p1458\",\"attributes\":{\"x\":{\"type\":\"field\",\"field\":\"timestamp\"},\"y\":{\"type\":\"field\",\"field\":\"location_10\"},\"line_color\":\"#17becf\",\"line_width\":2}},\"nonselection_glyph\":{\"type\":\"object\",\"name\":\"Line\",\"id\":\"p1459\",\"attributes\":{\"x\":{\"type\":\"field\",\"field\":\"timestamp\"},\"y\":{\"type\":\"field\",\"field\":\"location_10\"},\"line_color\":\"#17becf\",\"line_alpha\":0.1,\"line_width\":2}},\"muted_glyph\":{\"type\":\"object\",\"name\":\"Line\",\"id\":\"p1460\",\"attributes\":{\"x\":{\"type\":\"field\",\"field\":\"timestamp\"},\"y\":{\"type\":\"field\",\"field\":\"location_10\"},\"line_color\":\"#17becf\",\"line_alpha\":0.2,\"line_width\":2}}}},{\"type\":\"object\",\"name\":\"GlyphRenderer\",\"id\":\"p1471\",\"attributes\":{\"data_source\":{\"id\":\"p1310\"},\"view\":{\"type\":\"object\",\"name\":\"CDSView\",\"id\":\"p1472\",\"attributes\":{\"filter\":{\"type\":\"object\",\"name\":\"AllIndices\",\"id\":\"p1473\"}}},\"glyph\":{\"type\":\"object\",\"name\":\"Line\",\"id\":\"p1468\",\"attributes\":{\"x\":{\"type\":\"field\",\"field\":\"timestamp\"},\"y\":{\"type\":\"field\",\"field\":\"location_11\"},\"line_color\":\"orange\",\"line_width\":2}},\"nonselection_glyph\":{\"type\":\"object\",\"name\":\"Line\",\"id\":\"p1469\",\"attributes\":{\"x\":{\"type\":\"field\",\"field\":\"timestamp\"},\"y\":{\"type\":\"field\",\"field\":\"location_11\"},\"line_color\":\"orange\",\"line_alpha\":0.1,\"line_width\":2}},\"muted_glyph\":{\"type\":\"object\",\"name\":\"Line\",\"id\":\"p1470\",\"attributes\":{\"x\":{\"type\":\"field\",\"field\":\"timestamp\"},\"y\":{\"type\":\"field\",\"field\":\"location_11\"},\"line_color\":\"orange\",\"line_alpha\":0.2,\"line_width\":2}}}},{\"type\":\"object\",\"name\":\"GlyphRenderer\",\"id\":\"p1481\",\"attributes\":{\"data_source\":{\"id\":\"p1310\"},\"view\":{\"type\":\"object\",\"name\":\"CDSView\",\"id\":\"p1482\",\"attributes\":{\"filter\":{\"type\":\"object\",\"name\":\"AllIndices\",\"id\":\"p1483\"}}},\"glyph\":{\"type\":\"object\",\"name\":\"Line\",\"id\":\"p1478\",\"attributes\":{\"x\":{\"type\":\"field\",\"field\":\"timestamp\"},\"y\":{\"type\":\"field\",\"field\":\"location_12\"},\"line_color\":\"purple\",\"line_width\":2}},\"nonselection_glyph\":{\"type\":\"object\",\"name\":\"Line\",\"id\":\"p1479\",\"attributes\":{\"x\":{\"type\":\"field\",\"field\":\"timestamp\"},\"y\":{\"type\":\"field\",\"field\":\"location_12\"},\"line_color\":\"purple\",\"line_alpha\":0.1,\"line_width\":2}},\"muted_glyph\":{\"type\":\"object\",\"name\":\"Line\",\"id\":\"p1480\",\"attributes\":{\"x\":{\"type\":\"field\",\"field\":\"timestamp\"},\"y\":{\"type\":\"field\",\"field\":\"location_12\"},\"line_color\":\"purple\",\"line_alpha\":0.2,\"line_width\":2}}}},{\"type\":\"object\",\"name\":\"GlyphRenderer\",\"id\":\"p1491\",\"attributes\":{\"data_source\":{\"id\":\"p1310\"},\"view\":{\"type\":\"object\",\"name\":\"CDSView\",\"id\":\"p1492\",\"attributes\":{\"filter\":{\"type\":\"object\",\"name\":\"AllIndices\",\"id\":\"p1493\"}}},\"glyph\":{\"type\":\"object\",\"name\":\"Line\",\"id\":\"p1488\",\"attributes\":{\"x\":{\"type\":\"field\",\"field\":\"timestamp\"},\"y\":{\"type\":\"field\",\"field\":\"location_13\"},\"line_color\":\"brown\",\"line_width\":2}},\"nonselection_glyph\":{\"type\":\"object\",\"name\":\"Line\",\"id\":\"p1489\",\"attributes\":{\"x\":{\"type\":\"field\",\"field\":\"timestamp\"},\"y\":{\"type\":\"field\",\"field\":\"location_13\"},\"line_color\":\"brown\",\"line_alpha\":0.1,\"line_width\":2}},\"muted_glyph\":{\"type\":\"object\",\"name\":\"Line\",\"id\":\"p1490\",\"attributes\":{\"x\":{\"type\":\"field\",\"field\":\"timestamp\"},\"y\":{\"type\":\"field\",\"field\":\"location_13\"},\"line_color\":\"brown\",\"line_alpha\":0.2,\"line_width\":2}}}},{\"type\":\"object\",\"name\":\"GlyphRenderer\",\"id\":\"p1501\",\"attributes\":{\"data_source\":{\"id\":\"p1310\"},\"view\":{\"type\":\"object\",\"name\":\"CDSView\",\"id\":\"p1502\",\"attributes\":{\"filter\":{\"type\":\"object\",\"name\":\"AllIndices\",\"id\":\"p1503\"}}},\"glyph\":{\"type\":\"object\",\"name\":\"Line\",\"id\":\"p1498\",\"attributes\":{\"x\":{\"type\":\"field\",\"field\":\"timestamp\"},\"y\":{\"type\":\"field\",\"field\":\"location_14\"},\"line_color\":\"pink\",\"line_width\":2}},\"nonselection_glyph\":{\"type\":\"object\",\"name\":\"Line\",\"id\":\"p1499\",\"attributes\":{\"x\":{\"type\":\"field\",\"field\":\"timestamp\"},\"y\":{\"type\":\"field\",\"field\":\"location_14\"},\"line_color\":\"pink\",\"line_alpha\":0.1,\"line_width\":2}},\"muted_glyph\":{\"type\":\"object\",\"name\":\"Line\",\"id\":\"p1500\",\"attributes\":{\"x\":{\"type\":\"field\",\"field\":\"timestamp\"},\"y\":{\"type\":\"field\",\"field\":\"location_14\"},\"line_color\":\"pink\",\"line_alpha\":0.2,\"line_width\":2}}}}],\"toolbar\":{\"type\":\"object\",\"name\":\"Toolbar\",\"id\":\"p1325\",\"attributes\":{\"tools\":[{\"type\":\"object\",\"name\":\"PanTool\",\"id\":\"p1352\"},{\"type\":\"object\",\"name\":\"WheelZoomTool\",\"id\":\"p1353\",\"attributes\":{\"renderers\":\"auto\"}},{\"type\":\"object\",\"name\":\"BoxZoomTool\",\"id\":\"p1354\",\"attributes\":{\"dimensions\":\"both\",\"overlay\":{\"type\":\"object\",\"name\":\"BoxAnnotation\",\"id\":\"p1355\",\"attributes\":{\"syncable\":false,\"line_color\":\"black\",\"line_alpha\":1.0,\"line_width\":2,\"line_dash\":[4,4],\"fill_color\":\"lightgrey\",\"fill_alpha\":0.5,\"level\":\"overlay\",\"visible\":false,\"left\":{\"type\":\"number\",\"value\":\"nan\"},\"right\":{\"type\":\"number\",\"value\":\"nan\"},\"top\":{\"type\":\"number\",\"value\":\"nan\"},\"bottom\":{\"type\":\"number\",\"value\":\"nan\"},\"left_units\":\"canvas\",\"right_units\":\"canvas\",\"top_units\":\"canvas\",\"bottom_units\":\"canvas\",\"handles\":{\"type\":\"object\",\"name\":\"BoxInteractionHandles\",\"id\":\"p1361\",\"attributes\":{\"all\":{\"type\":\"object\",\"name\":\"AreaVisuals\",\"id\":\"p1360\",\"attributes\":{\"fill_color\":\"white\",\"hover_fill_color\":\"lightgray\"}}}}}}}},{\"type\":\"object\",\"name\":\"ResetTool\",\"id\":\"p1362\"},{\"type\":\"object\",\"name\":\"SaveTool\",\"id\":\"p1363\"}]}},\"left\":[{\"type\":\"object\",\"name\":\"LinearAxis\",\"id\":\"p1347\",\"attributes\":{\"ticker\":{\"type\":\"object\",\"name\":\"BasicTicker\",\"id\":\"p1348\",\"attributes\":{\"mantissas\":[1,2,5]}},\"formatter\":{\"type\":\"object\",\"name\":\"BasicTickFormatter\",\"id\":\"p1349\"},\"axis_label\":\"Price ($)\",\"major_label_policy\":{\"type\":\"object\",\"name\":\"AllLabels\",\"id\":\"p1350\"}}}],\"below\":[{\"type\":\"object\",\"name\":\"DatetimeAxis\",\"id\":\"p1328\",\"attributes\":{\"ticker\":{\"type\":\"object\",\"name\":\"DatetimeTicker\",\"id\":\"p1329\",\"attributes\":{\"num_minor_ticks\":5,\"tickers\":[{\"type\":\"object\",\"name\":\"AdaptiveTicker\",\"id\":\"p1330\",\"attributes\":{\"num_minor_ticks\":0,\"mantissas\":[1,2,5],\"max_interval\":500.0}},{\"type\":\"object\",\"name\":\"AdaptiveTicker\",\"id\":\"p1331\",\"attributes\":{\"num_minor_ticks\":0,\"base\":60,\"mantissas\":[1,2,5,10,15,20,30],\"min_interval\":1000.0,\"max_interval\":1800000.0}},{\"type\":\"object\",\"name\":\"AdaptiveTicker\",\"id\":\"p1332\",\"attributes\":{\"num_minor_ticks\":0,\"base\":24,\"mantissas\":[1,2,4,6,8,12],\"min_interval\":3600000.0,\"max_interval\":43200000.0}},{\"type\":\"object\",\"name\":\"DaysTicker\",\"id\":\"p1333\",\"attributes\":{\"days\":[1,2,3,4,5,6,7,8,9,10,11,12,13,14,15,16,17,18,19,20,21,22,23,24,25,26,27,28,29,30,31]}},{\"type\":\"object\",\"name\":\"DaysTicker\",\"id\":\"p1334\",\"attributes\":{\"days\":[1,4,7,10,13,16,19,22,25,28]}},{\"type\":\"object\",\"name\":\"DaysTicker\",\"id\":\"p1335\",\"attributes\":{\"days\":[1,8,15,22]}},{\"type\":\"object\",\"name\":\"DaysTicker\",\"id\":\"p1336\",\"attributes\":{\"days\":[1,15]}},{\"type\":\"object\",\"name\":\"MonthsTicker\",\"id\":\"p1337\",\"attributes\":{\"months\":[0,1,2,3,4,5,6,7,8,9,10,11]}},{\"type\":\"object\",\"name\":\"MonthsTicker\",\"id\":\"p1338\",\"attributes\":{\"months\":[0,2,4,6,8,10]}},{\"type\":\"object\",\"name\":\"MonthsTicker\",\"id\":\"p1339\",\"attributes\":{\"months\":[0,4,8]}},{\"type\":\"object\",\"name\":\"MonthsTicker\",\"id\":\"p1340\",\"attributes\":{\"months\":[0,6]}},{\"type\":\"object\",\"name\":\"YearsTicker\",\"id\":\"p1341\"}]}},\"formatter\":{\"type\":\"object\",\"name\":\"DatetimeTickFormatter\",\"id\":\"p1562\",\"attributes\":{\"hours\":\"%H:%M\"}},\"axis_label\":\"Time\",\"major_label_policy\":{\"type\":\"object\",\"name\":\"AllLabels\",\"id\":\"p1345\"}}}],\"center\":[{\"type\":\"object\",\"name\":\"Grid\",\"id\":\"p1346\",\"attributes\":{\"axis\":{\"id\":\"p1328\"}}},{\"type\":\"object\",\"name\":\"Grid\",\"id\":\"p1351\",\"attributes\":{\"dimension\":1,\"axis\":{\"id\":\"p1347\"}}},{\"type\":\"object\",\"name\":\"Legend\",\"id\":\"p1373\",\"attributes\":{\"items\":[{\"type\":\"object\",\"name\":\"LegendItem\",\"id\":\"p1374\",\"attributes\":{\"label\":{\"type\":\"value\",\"value\":\"Location 1\"},\"renderers\":[{\"id\":\"p1370\"}]}},{\"type\":\"object\",\"name\":\"LegendItem\",\"id\":\"p1384\",\"attributes\":{\"label\":{\"type\":\"value\",\"value\":\"Location 2\"},\"renderers\":[{\"id\":\"p1381\"}]}},{\"type\":\"object\",\"name\":\"LegendItem\",\"id\":\"p1394\",\"attributes\":{\"label\":{\"type\":\"value\",\"value\":\"Location 3\"},\"renderers\":[{\"id\":\"p1391\"}]}},{\"type\":\"object\",\"name\":\"LegendItem\",\"id\":\"p1404\",\"attributes\":{\"label\":{\"type\":\"value\",\"value\":\"Location 4\"},\"renderers\":[{\"id\":\"p1401\"}]}},{\"type\":\"object\",\"name\":\"LegendItem\",\"id\":\"p1414\",\"attributes\":{\"label\":{\"type\":\"value\",\"value\":\"Location 5\"},\"renderers\":[{\"id\":\"p1411\"}]}},{\"type\":\"object\",\"name\":\"LegendItem\",\"id\":\"p1424\",\"attributes\":{\"label\":{\"type\":\"value\",\"value\":\"Location 6\"},\"renderers\":[{\"id\":\"p1421\"}]}},{\"type\":\"object\",\"name\":\"LegendItem\",\"id\":\"p1434\",\"attributes\":{\"label\":{\"type\":\"value\",\"value\":\"Location 7\"},\"renderers\":[{\"id\":\"p1431\"}]}},{\"type\":\"object\",\"name\":\"LegendItem\",\"id\":\"p1444\",\"attributes\":{\"label\":{\"type\":\"value\",\"value\":\"Location 8\"},\"renderers\":[{\"id\":\"p1441\"}]}},{\"type\":\"object\",\"name\":\"LegendItem\",\"id\":\"p1454\",\"attributes\":{\"label\":{\"type\":\"value\",\"value\":\"Location 9\"},\"renderers\":[{\"id\":\"p1451\"}]}},{\"type\":\"object\",\"name\":\"LegendItem\",\"id\":\"p1464\",\"attributes\":{\"label\":{\"type\":\"value\",\"value\":\"Location 10\"},\"renderers\":[{\"id\":\"p1461\"}]}},{\"type\":\"object\",\"name\":\"LegendItem\",\"id\":\"p1474\",\"attributes\":{\"label\":{\"type\":\"value\",\"value\":\"Location 11\"},\"renderers\":[{\"id\":\"p1471\"}]}},{\"type\":\"object\",\"name\":\"LegendItem\",\"id\":\"p1484\",\"attributes\":{\"label\":{\"type\":\"value\",\"value\":\"Location 12\"},\"renderers\":[{\"id\":\"p1481\"}]}},{\"type\":\"object\",\"name\":\"LegendItem\",\"id\":\"p1494\",\"attributes\":{\"label\":{\"type\":\"value\",\"value\":\"Location 13\"},\"renderers\":[{\"id\":\"p1491\"}]}},{\"type\":\"object\",\"name\":\"LegendItem\",\"id\":\"p1504\",\"attributes\":{\"label\":{\"type\":\"value\",\"value\":\"Location 14\"},\"renderers\":[{\"id\":\"p1501\"}]}}]}}]}},{\"type\":\"object\",\"name\":\"Figure\",\"id\":\"p1505\",\"attributes\":{\"width\":900,\"height\":300,\"x_range\":{\"type\":\"object\",\"name\":\"DataRange1d\",\"id\":\"p1506\"},\"y_range\":{\"type\":\"object\",\"name\":\"DataRange1d\",\"id\":\"p1507\"},\"x_scale\":{\"type\":\"object\",\"name\":\"LinearScale\",\"id\":\"p1515\"},\"y_scale\":{\"type\":\"object\",\"name\":\"LinearScale\",\"id\":\"p1516\"},\"title\":{\"type\":\"object\",\"name\":\"Title\",\"id\":\"p1508\",\"attributes\":{\"text\":\"Average Occupancy Rate\"}},\"renderers\":[{\"type\":\"object\",\"name\":\"GlyphRenderer\",\"id\":\"p1559\",\"attributes\":{\"data_source\":{\"type\":\"object\",\"name\":\"ColumnDataSource\",\"id\":\"p1313\",\"attributes\":{\"selected\":{\"type\":\"object\",\"name\":\"Selection\",\"id\":\"p1314\",\"attributes\":{\"indices\":[],\"line_indices\":[]}},\"selection_policy\":{\"type\":\"object\",\"name\":\"UnionRenderers\",\"id\":\"p1315\"},\"data\":{\"type\":\"map\",\"entries\":[[\"timestamp\",[]],[\"avg_occupancy\",[]]]}}},\"view\":{\"type\":\"object\",\"name\":\"CDSView\",\"id\":\"p1560\",\"attributes\":{\"filter\":{\"type\":\"object\",\"name\":\"AllIndices\",\"id\":\"p1561\"}}},\"glyph\":{\"type\":\"object\",\"name\":\"Line\",\"id\":\"p1556\",\"attributes\":{\"x\":{\"type\":\"field\",\"field\":\"timestamp\"},\"y\":{\"type\":\"field\",\"field\":\"avg_occupancy\"},\"line_color\":\"blue\",\"line_width\":3}},\"nonselection_glyph\":{\"type\":\"object\",\"name\":\"Line\",\"id\":\"p1557\",\"attributes\":{\"x\":{\"type\":\"field\",\"field\":\"timestamp\"},\"y\":{\"type\":\"field\",\"field\":\"avg_occupancy\"},\"line_color\":\"blue\",\"line_alpha\":0.1,\"line_width\":3}},\"muted_glyph\":{\"type\":\"object\",\"name\":\"Line\",\"id\":\"p1558\",\"attributes\":{\"x\":{\"type\":\"field\",\"field\":\"timestamp\"},\"y\":{\"type\":\"field\",\"field\":\"avg_occupancy\"},\"line_color\":\"blue\",\"line_alpha\":0.2,\"line_width\":3}}}}],\"toolbar\":{\"type\":\"object\",\"name\":\"Toolbar\",\"id\":\"p1514\",\"attributes\":{\"tools\":[{\"type\":\"object\",\"name\":\"PanTool\",\"id\":\"p1541\"},{\"type\":\"object\",\"name\":\"WheelZoomTool\",\"id\":\"p1542\",\"attributes\":{\"renderers\":\"auto\"}},{\"type\":\"object\",\"name\":\"BoxZoomTool\",\"id\":\"p1543\",\"attributes\":{\"dimensions\":\"both\",\"overlay\":{\"type\":\"object\",\"name\":\"BoxAnnotation\",\"id\":\"p1544\",\"attributes\":{\"syncable\":false,\"line_color\":\"black\",\"line_alpha\":1.0,\"line_width\":2,\"line_dash\":[4,4],\"fill_color\":\"lightgrey\",\"fill_alpha\":0.5,\"level\":\"overlay\",\"visible\":false,\"left\":{\"type\":\"number\",\"value\":\"nan\"},\"right\":{\"type\":\"number\",\"value\":\"nan\"},\"top\":{\"type\":\"number\",\"value\":\"nan\"},\"bottom\":{\"type\":\"number\",\"value\":\"nan\"},\"left_units\":\"canvas\",\"right_units\":\"canvas\",\"top_units\":\"canvas\",\"bottom_units\":\"canvas\",\"handles\":{\"type\":\"object\",\"name\":\"BoxInteractionHandles\",\"id\":\"p1550\",\"attributes\":{\"all\":{\"type\":\"object\",\"name\":\"AreaVisuals\",\"id\":\"p1549\",\"attributes\":{\"fill_color\":\"white\",\"hover_fill_color\":\"lightgray\"}}}}}}}},{\"type\":\"object\",\"name\":\"ResetTool\",\"id\":\"p1551\"},{\"type\":\"object\",\"name\":\"SaveTool\",\"id\":\"p1552\"}]}},\"left\":[{\"type\":\"object\",\"name\":\"LinearAxis\",\"id\":\"p1536\",\"attributes\":{\"ticker\":{\"type\":\"object\",\"name\":\"BasicTicker\",\"id\":\"p1537\",\"attributes\":{\"mantissas\":[1,2,5]}},\"formatter\":{\"type\":\"object\",\"name\":\"BasicTickFormatter\",\"id\":\"p1538\"},\"axis_label\":\"Occupancy Rate\",\"major_label_policy\":{\"type\":\"object\",\"name\":\"AllLabels\",\"id\":\"p1539\"}}}],\"below\":[{\"type\":\"object\",\"name\":\"DatetimeAxis\",\"id\":\"p1517\",\"attributes\":{\"ticker\":{\"type\":\"object\",\"name\":\"DatetimeTicker\",\"id\":\"p1518\",\"attributes\":{\"num_minor_ticks\":5,\"tickers\":[{\"type\":\"object\",\"name\":\"AdaptiveTicker\",\"id\":\"p1519\",\"attributes\":{\"num_minor_ticks\":0,\"mantissas\":[1,2,5],\"max_interval\":500.0}},{\"type\":\"object\",\"name\":\"AdaptiveTicker\",\"id\":\"p1520\",\"attributes\":{\"num_minor_ticks\":0,\"base\":60,\"mantissas\":[1,2,5,10,15,20,30],\"min_interval\":1000.0,\"max_interval\":1800000.0}},{\"type\":\"object\",\"name\":\"AdaptiveTicker\",\"id\":\"p1521\",\"attributes\":{\"num_minor_ticks\":0,\"base\":24,\"mantissas\":[1,2,4,6,8,12],\"min_interval\":3600000.0,\"max_interval\":43200000.0}},{\"type\":\"object\",\"name\":\"DaysTicker\",\"id\":\"p1522\",\"attributes\":{\"days\":[1,2,3,4,5,6,7,8,9,10,11,12,13,14,15,16,17,18,19,20,21,22,23,24,25,26,27,28,29,30,31]}},{\"type\":\"object\",\"name\":\"DaysTicker\",\"id\":\"p1523\",\"attributes\":{\"days\":[1,4,7,10,13,16,19,22,25,28]}},{\"type\":\"object\",\"name\":\"DaysTicker\",\"id\":\"p1524\",\"attributes\":{\"days\":[1,8,15,22]}},{\"type\":\"object\",\"name\":\"DaysTicker\",\"id\":\"p1525\",\"attributes\":{\"days\":[1,15]}},{\"type\":\"object\",\"name\":\"MonthsTicker\",\"id\":\"p1526\",\"attributes\":{\"months\":[0,1,2,3,4,5,6,7,8,9,10,11]}},{\"type\":\"object\",\"name\":\"MonthsTicker\",\"id\":\"p1527\",\"attributes\":{\"months\":[0,2,4,6,8,10]}},{\"type\":\"object\",\"name\":\"MonthsTicker\",\"id\":\"p1528\",\"attributes\":{\"months\":[0,4,8]}},{\"type\":\"object\",\"name\":\"MonthsTicker\",\"id\":\"p1529\",\"attributes\":{\"months\":[0,6]}},{\"type\":\"object\",\"name\":\"YearsTicker\",\"id\":\"p1530\"}]}},\"formatter\":{\"id\":\"p1562\"},\"axis_label\":\"Time\",\"major_label_policy\":{\"type\":\"object\",\"name\":\"AllLabels\",\"id\":\"p1534\"}}}],\"center\":[{\"type\":\"object\",\"name\":\"Grid\",\"id\":\"p1535\",\"attributes\":{\"axis\":{\"id\":\"p1517\"}}},{\"type\":\"object\",\"name\":\"Grid\",\"id\":\"p1540\",\"attributes\":{\"dimension\":1,\"axis\":{\"id\":\"p1536\"}}}]}}]}}]}};\n",
              "  const render_items = [{\"docid\":\"90cd1636-e1b9-411e-8843-77de1e8288aa\",\"roots\":{\"p1563\":\"f4fc14a9-5b31-43ea-a622-d7c5fe5f42e8\"},\"root_ids\":[\"p1563\"]}];\n",
              "  void root.Bokeh.embed.embed_items_notebook(docs_json, render_items);\n",
              "  }\n",
              "  if (root.Bokeh !== undefined) {\n",
              "    embed_document(root);\n",
              "  } else {\n",
              "    let attempts = 0;\n",
              "    const timer = setInterval(function(root) {\n",
              "      if (root.Bokeh !== undefined) {\n",
              "        clearInterval(timer);\n",
              "        embed_document(root);\n",
              "      } else {\n",
              "        attempts++;\n",
              "        if (attempts > 100) {\n",
              "          clearInterval(timer);\n",
              "          console.log(\"Bokeh: ERROR: Unable to run BokehJS code because BokehJS library is missing\");\n",
              "        }\n",
              "      }\n",
              "    }, 10, root)\n",
              "  }\n",
              "})(window);"
            ],
            "application/vnd.bokehjs_exec.v0+json": ""
          },
          "metadata": {
            "application/vnd.bokehjs_exec.v0+json": {
              "id": "p1563"
            }
          }
        }
      ]
    },
    {
      "cell_type": "markdown",
      "source": [
        "implementing real time data processing loop"
      ],
      "metadata": {
        "id": "adwoaMWVmBrD"
      }
    },
    {
      "cell_type": "code",
      "source": [
        "def run_real_time_simulation(streaming_data, max_points=100, delay_seconds=1):\n",
        "    \"\"\"Run real-time pricing simulation with live updates\"\"\"\n",
        "\n",
        "    location_prices = {i: [] for i in range(1, 15)}\n",
        "    timestamps = []\n",
        "    occupancy_rates = []\n",
        "\n",
        "    print(\"Starting real-time simulation...\")\n",
        "    print(\"Press Ctrl+C to stop\")\n",
        "\n",
        "    try:\n",
        "        for i, data_point in enumerate(streaming_data[:max_points]):\n",
        "            # Process data point\n",
        "            pricing_record = pricing_engine.process_data_point(data_point)\n",
        "\n",
        "            # Update visualization data\n",
        "            current_time = data_point['timestamp']\n",
        "            timestamps.append(current_time)\n",
        "\n",
        "            # Update price data for current location\n",
        "            location_id = data_point['location_id']\n",
        "            for loc_id in range(1, 15):\n",
        "                if loc_id == location_id:\n",
        "                    location_prices[loc_id].append(pricing_record['final_price'])\n",
        "                else:\n",
        "                    # Use last known price or base price\n",
        "                    last_price = (location_prices[loc_id][-1]\n",
        "                                if location_prices[loc_id] else 10.0)\n",
        "                    location_prices[loc_id].append(last_price)\n",
        "\n",
        "            # Calculate average occupancy\n",
        "            current_occupancy = pricing_record['occupancy_rate']\n",
        "            occupancy_rates.append(current_occupancy)\n",
        "\n",
        "            # Update Bokeh data sources\n",
        "            new_price_data = {'timestamp': timestamps}\n",
        "            for loc_id in range(1, 15):\n",
        "                new_price_data[f'location_{loc_id}'] = location_prices[loc_id]\n",
        "\n",
        "            new_occupancy_data = {\n",
        "                'timestamp': timestamps,\n",
        "                'avg_occupancy': occupancy_rates\n",
        "            }\n",
        "\n",
        "            price_source.data = new_price_data\n",
        "            occupancy_source.data = new_occupancy_data\n",
        "\n",
        "            # Print current status\n",
        "            if i % 10 == 0:  # Print every 10 iterations\n",
        "                print(f\"Processed {i+1} data points. \"\n",
        "                      f\"Current price for location {location_id}: \"\n",
        "                      f\"${pricing_record['final_price']:.2f}\")\n",
        "\n",
        "            # Simulate real-time delay\n",
        "            time.sleep(delay_seconds)\n",
        "\n",
        "    except KeyboardInterrupt:\n",
        "        print(\"\\nSimulation stopped by user\")\n",
        "\n",
        "    print(f\"Simulation completed. Processed {len(pricing_engine.pricing_history)} records\")\n",
        "    return pricing_engine.pricing_history\n",
        "\n",
        "# Run the simulation\n",
        "pricing_history = run_real_time_simulation(streaming_data, max_points=50, delay_seconds=2)\n"
      ],
      "metadata": {
        "id": "3Ow4ZW7-lMXt",
        "outputId": "1cb4f346-24d0-450e-e464-b1feed126651",
        "colab": {
          "base_uri": "https://localhost:8080/"
        }
      },
      "execution_count": 31,
      "outputs": [
        {
          "output_type": "stream",
          "name": "stdout",
          "text": [
            "Starting real-time simulation...\n",
            "Press Ctrl+C to stop\n",
            "Processed 1 data points. Current price for location 13: $7.88\n",
            "Processed 11 data points. Current price for location 13: $10.85\n",
            "Processed 21 data points. Current price for location 5: $10.26\n",
            "Processed 31 data points. Current price for location 10: $9.85\n",
            "Processed 41 data points. Current price for location 5: $11.78\n",
            "Simulation completed. Processed 50 records\n"
          ]
        }
      ]
    },
    {
      "cell_type": "markdown",
      "source": [
        "generate performance analysis"
      ],
      "metadata": {
        "id": "i-fZ2g_xmhQH"
      }
    },
    {
      "cell_type": "code",
      "source": [
        "def analyze_pricing_performance(pricing_history):\n",
        "    \"\"\"Analyze the performance of pricing models\"\"\"\n",
        "\n",
        "    # Convert to DataFrame for analysis\n",
        "    results_df = pd.DataFrame(pricing_history)\n",
        "\n",
        "    print(\"=== PRICING ANALYSIS REPORT ===\")\n",
        "    print(f\"Total data points processed: {len(results_df)}\")\n",
        "    print(f\"Unique locations: {results_df['location_id'].nunique()}\")\n",
        "    print(f\"Time period: {results_df['timestamp'].min()} to {results_df['timestamp'].max()}\")\n",
        "\n",
        "    # Price statistics\n",
        "    print(f\"\\nPrice Statistics:\")\n",
        "    print(f\"Mean final price: ${results_df['final_price'].mean():.2f}\")\n",
        "    print(f\"Price range: ${results_df['final_price'].min():.2f} - ${results_df['final_price'].max():.2f}\")\n",
        "    print(f\"Price volatility (std): ${results_df['final_price'].std():.2f}\")\n",
        "\n",
        "    # Occupancy vs Price correlation\n",
        "    correlation = results_df['occupancy_rate'].corr(results_df['final_price'])\n",
        "    print(f\"\\nOccupancy-Price Correlation: {correlation:.3f}\")\n",
        "\n",
        "    # Model comparison\n",
        "    print(f\"\\nModel Price Comparison:\")\n",
        "    print(f\"Average Baseline Price: ${results_df['baseline_price'].mean():.2f}\")\n",
        "    print(f\"Average Demand Price: ${results_df['demand_price'].mean():.2f}\")\n",
        "\n",
        "    return results_df\n",
        "\n",
        "# Analyze results\n",
        "results_df = analyze_pricing_performance(pricing_history)\n"
      ],
      "metadata": {
        "id": "tawITZcymFi3",
        "outputId": "a4b9f3a0-f6ed-4846-e43e-d3792a5af904",
        "colab": {
          "base_uri": "https://localhost:8080/"
        }
      },
      "execution_count": 32,
      "outputs": [
        {
          "output_type": "stream",
          "name": "stdout",
          "text": [
            "=== PRICING ANALYSIS REPORT ===\n",
            "Total data points processed: 50\n",
            "Unique locations: 14\n",
            "Time period: 2016-10-04 07:59:00 to 2016-10-04 09:32:00\n",
            "\n",
            "Price Statistics:\n",
            "Mean final price: $11.92\n",
            "Price range: $7.88 - $15.38\n",
            "Price volatility (std): $1.57\n",
            "\n",
            "Occupancy-Price Correlation: 0.787\n",
            "\n",
            "Model Price Comparison:\n",
            "Average Baseline Price: $12.96\n",
            "Average Demand Price: $11.92\n"
          ]
        }
      ]
    },
    {
      "cell_type": "markdown",
      "source": [
        "final visualisation and export"
      ],
      "metadata": {
        "id": "DUsVdwdfmnVk"
      }
    },
    {
      "cell_type": "code",
      "source": [
        "# Create summary visualizations\n",
        "import matplotlib.pyplot as plt\n",
        "\n",
        "def create_summary_plots(results_df):\n",
        "    \"\"\"Create summary plots for analysis\"\"\"\n",
        "\n",
        "    fig, axes = plt.subplots(2, 2, figsize=(15, 10))\n",
        "\n",
        "    # Plot 1: Price vs Time\n",
        "    axes[0,0].plot(results_df['timestamp'], results_df['final_price'], 'b-', alpha=0.7)\n",
        "    axes[0,0].set_title('Price Evolution Over Time')\n",
        "    axes[0,0].set_xlabel('Time')\n",
        "    axes[0,0].set_ylabel('Price ($)')\n",
        "    axes[0,0].tick_params(axis='x', rotation=45)\n",
        "\n",
        "    # Plot 2: Occupancy vs Price\n",
        "    axes[0,1].scatter(results_df['occupancy_rate'], results_df['final_price'], alpha=0.6)\n",
        "    axes[0,1].set_title('Price vs Occupancy Rate')\n",
        "    axes[0,1].set_xlabel('Occupancy Rate')\n",
        "    axes[0,1].set_ylabel('Price ($)')\n",
        "\n",
        "    # Plot 3: Model Comparison\n",
        "    axes[1,0].hist([results_df['baseline_price'], results_df['demand_price']],\n",
        "                   bins=20, alpha=0.7, label=['Baseline', 'Demand-based'])\n",
        "    axes[1,0].set_title('Price Distribution by Model')\n",
        "    axes[1,0].set_xlabel('Price ($)')\n",
        "    axes[1,0].set_ylabel('Frequency')\n",
        "    axes[1,0].legend()\n",
        "\n",
        "    # Plot 4: Queue Length Impact\n",
        "    axes[1,1].scatter(results_df['queue_length'], results_df['final_price'], alpha=0.6, c='red')\n",
        "    axes[1,1].set_title('Price vs Queue Length')\n",
        "    axes[1,1].set_xlabel('Queue Length')\n",
        "    axes[1,1].set_ylabel('Price ($)')\n",
        "\n",
        "    plt.tight_layout()\n",
        "    plt.show()\n",
        "\n",
        "# Create summary plots\n",
        "create_summary_plots(results_df)\n",
        "\n",
        "# Export results\n",
        "results_df.to_csv('parking_pricing_results.csv', index=False)\n",
        "print(\"Results exported to 'parking_pricing_results.csv'\")\n"
      ],
      "metadata": {
        "id": "JAJpLXtwmkl7",
        "outputId": "720ff2ba-f50a-4536-c3a8-32cb50dece55",
        "colab": {
          "base_uri": "https://localhost:8080/",
          "height": 1000
        }
      },
      "execution_count": 33,
      "outputs": [
        {
          "output_type": "display_data",
          "data": {
            "text/plain": [
              "<Figure size 1500x1000 with 4 Axes>"
            ],
            "image/png": "[encoded data removed]"
          },
          "metadata": {}
        },
        {
          "output_type": "stream",
          "name": "stdout",
          "text": [
            "Results exported to 'parking_pricing_results.csv'\n"
          ]
        }
      ]
    },
    {
      "cell_type": "markdown",
      "source": [
        "final report"
      ],
      "metadata": {
        "id": "57BK-3k2m0ob"
      }
    },
    {
      "cell_type": "code",
      "source": [
        "def generate_final_report(results_df):\n",
        "    \"\"\"Generate comprehensive final report\"\"\"\n",
        "\n",
        "    report = f\"\"\"\n",
        "    # DYNAMIC PARKING PRICING SYSTEM - FINAL REPORT\n",
        "\n",
        "    ## Executive Summary\n",
        "    Successfully implemented a dynamic pricing system for {results_df['location_id'].nunique()} parking locations\n",
        "    using real-time data processing with Pathway and interactive visualization with Bokeh.\n",
        "\n",
        "    ## Model Performance\n",
        "\n",
        "    ### Baseline Linear Model\n",
        "    - Simple occupancy-based pricing\n",
        "    - Average price: ${results_df['baseline_price'].mean():.2f}\n",
        "    - Price range: ${results_df['baseline_price'].min():.2f} - ${results_df['baseline_price'].max():.2f}\n",
        "\n",
        "    ### Demand-Based Model\n",
        "    - Multi-factor pricing (occupancy, queue, traffic, events, vehicle type)\n",
        "    - Average price: ${results_df['demand_price'].mean():.2f}\n",
        "    - Price range: ${results_df['demand_price'].min():.2f} - ${results_df['demand_price'].max():.2f}\n",
        "    - Occupancy correlation: {results_df['occupancy_rate'].corr(results_df['demand_price']):.3f}\n",
        "\n",
        "    ## Key Insights\n",
        "    1. Dynamic pricing successfully responds to occupancy changes\n",
        "    2. Queue length and traffic conditions significantly impact pricing\n",
        "    3. Special events create appropriate price premiums\n",
        "    4. System maintains price stability while being responsive to demand\n",
        "\n",
        "    ## Technical Implementation\n",
        "    - Real-time processing: Pathway framework\n",
        "    - Visualization: Bokeh interactive dashboards\n",
        "    - Models: From scratch using NumPy/Pandas only\n",
        "    - Platform: Google Colab for accessibility\n",
        "\n",
        "    ## Recommendations\n",
        "    1. Deploy Model 2 (Demand-based) for production use\n",
        "    2. Implement Model 3 (Competitive) for dense urban areas\n",
        "    3. Tune parameters based on local market conditions\n",
        "    4. Add machine learning for demand forecasting\n",
        "\n",
        "    ## Files Generated\n",
        "    - parking_pricing_results.csv: Complete pricing history\n",
        "    - Interactive Bokeh dashboard: Real-time monitoring\n",
        "    \"\"\"\n",
        "\n",
        "    print(report)\n",
        "\n",
        "    # Save report to file\n",
        "    with open('parking_pricing_report.txt', 'w') as f:\n",
        "        f.write(report)\n",
        "\n",
        "    print(\"\\nFinal report saved to 'parking_pricing_report.txt'\")\n",
        "\n",
        "# Generate final report\n",
        "generate_final_report(results_df)\n"
      ],
      "metadata": {
        "id": "DZlvrXSmmqo7",
        "outputId": "4ab54383-d6a8-4a00-e2ad-2ab386b9b211",
        "colab": {
          "base_uri": "https://localhost:8080/"
        }
      },
      "execution_count": 34,
      "outputs": [
        {
          "output_type": "stream",
          "name": "stdout",
          "text": [
            "\n",
            "    # DYNAMIC PARKING PRICING SYSTEM - FINAL REPORT\n",
            "    \n",
            "    ## Executive Summary\n",
            "    Successfully implemented a dynamic pricing system for 14 parking locations\n",
            "    using real-time data processing with Pathway and interactive visualization with Bokeh.\n",
            "    \n",
            "    ## Model Performance\n",
            "    \n",
            "    ### Baseline Linear Model\n",
            "    - Simple occupancy-based pricing\n",
            "    - Average price: $12.96\n",
            "    - Price range: $9.03 - $17.73\n",
            "    \n",
            "    ### Demand-Based Model  \n",
            "    - Multi-factor pricing (occupancy, queue, traffic, events, vehicle type)\n",
            "    - Average price: $11.92\n",
            "    - Price range: $7.88 - $15.38\n",
            "    - Occupancy correlation: 0.787\n",
            "    \n",
            "    ## Key Insights\n",
            "    1. Dynamic pricing successfully responds to occupancy changes\n",
            "    2. Queue length and traffic conditions significantly impact pricing\n",
            "    3. Special events create appropriate price premiums\n",
            "    4. System maintains price stability while being responsive to demand\n",
            "    \n",
            "    ## Technical Implementation\n",
            "    - Real-time processing: Pathway framework\n",
            "    - Visualization: Bokeh interactive dashboards  \n",
            "    - Models: From scratch using NumPy/Pandas only\n",
            "    - Platform: Google Colab for accessibility\n",
            "    \n",
            "    ## Recommendations\n",
            "    1. Deploy Model 2 (Demand-based) for production use\n",
            "    2. Implement Model 3 (Competitive) for dense urban areas\n",
            "    3. Tune parameters based on local market conditions\n",
            "    4. Add machine learning for demand forecasting\n",
            "    \n",
            "    ## Files Generated\n",
            "    - parking_pricing_results.csv: Complete pricing history\n",
            "    - Interactive Bokeh dashboard: Real-time monitoring\n",
            "    \n",
            "\n",
            "Final report saved to 'parking_pricing_report.txt'\n"
          ]
        }
      ]
    },
    {
      "cell_type": "code",
      "source": [],
      "metadata": {
        "id": "8jL1B6GMm25V"
      },
      "execution_count": null,
      "outputs": []
    }
  ],
  "metadata": {
    "colab": {
      "provenance": []
    },
    "kaggle": {
      "accelerator": "none",
      "dataSources": [
        {
          "datasetId": 7749157,
          "sourceId": 12294858,
          "sourceType": "datasetVersion"
        }
      ],
      "dockerImageVersionId": 31040,
      "isGpuEnabled": false,
      "isInternetEnabled": true,
      "language": "python",
      "sourceType": "notebook"
    },
    "kernelspec": {
      "display_name": "Python 3",
      "language": "python",
      "name": "python3"
    },
    "language_info": {
      "codemirror_mode": {
        "name": "ipython",
        "version": 3
      },
      "file_extension": ".py",
      "mimetype": "text/x-python",
      "name": "python",
      "nbconvert_exporter": "python",
      "pygments_lexer": "ipython3",
      "version": "3.11.11"
    }
  },
  "nbformat": 4,
  "nbformat_minor": 0
}